{
 "cells": [
  {
   "cell_type": "code",
   "execution_count": 4,
   "metadata": {},
   "outputs": [],
   "source": [
    "import csv\n",
    "import gc\n",
    "import logging\n",
    "import matplotlib.pyplot as plt\n",
    "import yaml\n",
    "import os\n",
    "from shdom import CloudCT_setup, plank\n",
    "from shdom.CloudCT_Utils import *\n",
    "from mpl_toolkits import mplot3d\n",
    "\n",
    "import numpy as np\n",
    "import pandas as pd"
   ]
  },
  {
   "cell_type": "code",
   "execution_count": null,
   "metadata": {},
   "outputs": [],
   "source": []
  },
  {
   "cell_type": "code",
   "execution_count": 16,
   "metadata": {},
   "outputs": [
    {
     "data": {
      "text/plain": [
       "Text(0.5, 0, 'lwc')"
      ]
     },
     "execution_count": 16,
     "metadata": {},
     "output_type": "execute_result"
    }
   ],
   "source": [
    "# ref = '../CloudCT_experiments/VIS_SWIR_NARROW_BANDS_VIS_620-670nm_active_sats_10_GSD_20m_and_SWIR_1628-1658nm_active_sats_10_GSD_50m_LES_cloud_field_BOMEX/logs/cost_active_sats_10_BOMEX_22x27x49_23040.txt-11-Oct-2020-01'\n",
    "# ref = '/home/vhold/CloudCT/pyshdom/CloudCT_experiments/VIS_SWIR_NARROW_BANDS_VIS_620-670nm_active_sats_10_GSD_20m_and_SWIR_1628-1658nm_active_sats_10_GSD_50m_LES_cloud_field_BOMEX/logs/cost_active_sats_10_BOMEX_24x22x21_43200-12-Oct-2020-00:05:16/'\n",
    "ref = '../CloudCT_experiments/VIS_SWIR_NARROW_BANDS_VIS_620-670nm_active_sats_10_GSD_20m_and_SWIR_1628-1658nm_active_sats_10_GSD_50m_LES_cloud_field_BOMEX/logs'\n",
    "\n",
    "ref = os.path.join(ref,'cost_reff_smoothness_with_1force_1d_reff_prec_lwc_15_prec_reff_0.01_BOMEX_13x25x36_28440.txt-26-Nov-2020-13:19:46')\n",
    "\n",
    "reff = np.loadtxt(os.path.join(ref,'reff.txt'))\n",
    "lwc = np.loadtxt(os.path.join(ref,'lwc.txt'))\n",
    "cost = np.loadtxt(os.path.join(ref,'cost.txt'))\n",
    "\n",
    "N = 16\n",
    "REFF = reff.reshape(N,N)\n",
    "LWC = lwc.reshape(N,N)\n",
    "COST = cost.reshape(N,N)\n",
    "\n",
    "%matplotlib qt\n",
    "ax = plt.axes(projection='3d')\n",
    "ax.plot_surface(REFF, LWC, COST, rstride=1, cstride=1,\n",
    "                cmap='jet', edgecolor='none')\n",
    "ax.set_title('surface')\n",
    "ax.view_init(elev=21., azim=28.)\n",
    "\n",
    "plt.xlabel('reff', fontsize=18)\n",
    "plt.ylabel('lwc', fontsize=18)\n",
    "# plt.zlabel('cost', fontsize=18)\n",
    "\n"
   ]
  },
  {
   "cell_type": "code",
   "execution_count": 17,
   "metadata": {},
   "outputs": [
    {
     "name": "stdout",
     "output_type": "stream",
     "text": [
      "Best point is 0.08145137960199358 at (reff, lwc) = (11.0, 0.8)\n"
     ]
    }
   ],
   "source": [
    "min_index = np.argmin(cost)\n",
    "print(\"Best point is {} at (reff, lwc) = ({}, {})\".format(cost[min_index], reff[min_index],lwc[min_index]))"
   ]
  },
  {
   "cell_type": "code",
   "execution_count": null,
   "metadata": {},
   "outputs": [],
   "source": []
  },
  {
   "cell_type": "code",
   "execution_count": null,
   "metadata": {},
   "outputs": [],
   "source": [
    "treshold = 0.5\n",
    "indexes = np.argwhere(COST < (cost[min_index] + treshold))\n",
    "# indexes = np.where(COST < (cost[min_index] + 0.5))\n",
    "# [r,c] = np.unravel_index(indexes, COST.shape, order='C')\n",
    "\n",
    "reff_ = REFF[COST < (cost[min_index] + treshold)]\n",
    "lwc_ = LWC[COST < (cost[min_index] + treshold)]\n",
    "cost_ = COST[COST < (cost[min_index] + treshold)]\n",
    "\n",
    "# rand 10 point on grid:\n",
    "n = 9\n",
    "import random\n",
    "ind = random.sample(range(0, reff_.size), n)\n",
    "reff_rand = np.append(reff_[ind], reff[min_index])\n",
    "lwc_rand = np.append(lwc_[ind], lwc[min_index])\n",
    "cost_rand = np.append(cost_[ind], cost[min_index])\n",
    "\n",
    "%matplotlib qt\n",
    "ax = plt.axes(projection='3d')\n",
    "ax.scatter(reff_, lwc_, cost_, c=cost_, s = 30, cmap='jet', linewidth=0.5)\n",
    "ax.scatter(reff_rand, lwc_rand, cost_rand, s = 70, linewidth=0.6, edgecolor='k', facecolors='k')#facecolors='none', edgecolors='r'\n",
    "\n",
    "ax.set_xlim(REFF.min(), REFF.max()); ax.set_ylim(LWC.min(), LWC.max()); ax.set_zlim(0, COST.max());\n",
    "ax.set_title('surface')\n",
    "ax.view_init(elev=21., azim=28.)\n",
    "\n",
    "print('reff = {}'.format(reff_rand.tolist()))\n",
    "print('lwc = {}'.format(lwc_rand.tolist()))\n"
   ]
  },
  {
   "cell_type": "code",
   "execution_count": null,
   "metadata": {},
   "outputs": [],
   "source": [
    "cost_rand"
   ]
  },
  {
   "cell_type": "code",
   "execution_count": 106,
   "metadata": {},
   "outputs": [
    {
     "data": {
      "text/plain": [
       "array(0.24709418)"
      ]
     },
     "execution_count": 106,
     "metadata": {},
     "output_type": "execute_result"
    }
   ],
   "source": [
    "np.array(cost[min_index])"
   ]
  },
  {
   "cell_type": "code",
   "execution_count": 64,
   "metadata": {},
   "outputs": [
    {
     "data": {
      "text/plain": [
       "array([2, 4])"
      ]
     },
     "execution_count": 64,
     "metadata": {},
     "output_type": "execute_result"
    }
   ],
   "source": [
    "f = np.array([1,2,3,4,5,6,7,8,9])\n",
    "f[[1,3]]"
   ]
  },
  {
   "cell_type": "code",
   "execution_count": null,
   "metadata": {},
   "outputs": [],
   "source": []
  }
 ],
 "metadata": {
  "kernelspec": {
   "display_name": "pyshdom",
   "language": "python",
   "name": "pyshdom"
  },
  "language_info": {
   "codemirror_mode": {
    "name": "ipython",
    "version": 3
   },
   "file_extension": ".py",
   "mimetype": "text/x-python",
   "name": "python",
   "nbconvert_exporter": "python",
   "pygments_lexer": "ipython3",
   "version": "3.7.4"
  }
 },
 "nbformat": 4,
 "nbformat_minor": 2
}
