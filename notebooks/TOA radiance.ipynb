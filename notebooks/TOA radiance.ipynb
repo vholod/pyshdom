{
 "cells": [
  {
   "cell_type": "code",
   "execution_count": 1,
   "metadata": {},
   "outputs": [],
   "source": [
    "from __future__ import division\n",
    "from math import log, exp, tan, atan, pi, ceil\n",
    "import os\n",
    "import math\n",
    "import matplotlib.pyplot as plt\n",
    "import matplotlib.image as mpimg\n",
    "import numpy as np\n",
    "import pandas as pd\n",
    "from mpl_toolkits.mplot3d import Axes3D\n",
    "import time\n",
    "import scipy.spatial as spatial\n",
    "# from mayavi import mlab\n",
    "# mlab.init_notebook()\n",
    "import glob\n",
    "from termcolor import colored\n",
    "import re\n",
    "import scipy.io as sio\n",
    "from scipy.interpolate import InterpolatedUnivariateSpline\n",
    "import shdom\n",
    "\n",
    "%matplotlib notebook\n",
    "\n",
    "#  example: 808 candela/M^2  236 [Fl](Foot Lambert)\n",
    "C = (1/pi)*(1/0.3048**2)# luminance/C -> from [candela/M^2] to [Fl](Foot Lambert)\n",
    "# luminance*C ->  from [Fl](Foot Lambert) to [candela/M^2] "
   ]
  },
  {
   "cell_type": "code",
   "execution_count": null,
   "metadata": {},
   "outputs": [],
   "source": []
  },
  {
   "cell_type": "code",
   "execution_count": null,
   "metadata": {},
   "outputs": [],
   "source": []
  },
  {
   "cell_type": "markdown",
   "metadata": {},
   "source": [
    "# Implenemt Yoav's expresions"
   ]
  },
  {
   "cell_type": "markdown",
   "metadata": {},
   "source": [
    "Solar irradiance is often integrated over a given time period in order to report the radiant energy emitted into the surrounding environment (joule per square metre, J/m2), during that time period\n",
    "\n",
    "Solar radiation (sun spectral radiation) can be approximated as the radiation from a block body at 5900K.\n",
    "\n",
    "\n",
    "Caclulate the argument:\n",
    "\\begin{align}\n",
    "B_{\\lambda} = \\frac{2 h c^2}{\\lambda^5} \\frac{1}{{\\rm exp}^{\\frac{h c}{k T \\lambda}}-1}\n",
    "\\end{align}\n",
    "\n",
    "The units of $B_{\\lambda}$ is $\\frac{W}{m^2\\cdot nm \\cdot st}$. I whant the irradiance per $nm$ so I need to multiply $B_{\\lambda}$ by the solid angle the the sun see the eargth, thus $E_{\\lambda} = 6.8 \\cdot 10^{-5} B_{\\lambda}$ and it of units of $\\frac{W}{m^2 \\cdot nm}$.\n",
    "\n",
    "$E_{\\lambda}$ is the amount of irradiance per wavelenght that irradiat the TOA from sun.\n",
    "\n",
    "For the VIS range I assume clouds albedo is 1. I also assume atmospheric transmission is 1 (sun->clouds,clouds->satellite).\n",
    "\n",
    "At = pixel area at nadir = 50^2 m^2.\n",
    "\n",
    "To calculate the irradiance for spectral range,\n",
    "\\begin{align}\n",
    "E = \\int_{\\lambda_1}^{\\lambda_2}E_{\\lambda}(\\lambda)\\delta\\lambda \n",
    "\\end{align}\n",
    "\n",
    "where $E$ is the irradiance of units $\\frac{W}{m^2}$.\n",
    "\n",
    "* h = 6.62607004e-34 J*s is the Planck constant\n",
    "* c = 3.0e8 m/s speed of litght \n",
    "* k = 1.38064852e-23 J/K is the Boltzmann constant\n",
    "* T is the temperature of the radiation cavity of the black-body.\n",
    "* At is the area seen from the sattelite (at the top of the clouds).\n",
    "* R is the distance from clouds to observer.\n",
    "* Ao is the lens area of the CloudCT sat\n",
    "\n",
    "* QE (pandas Dataframe): Dataframe of Quantum Efficieny of a specific channel\n",
    "* QEs (list of DataFrames): Quantum Efficiency graphs of the camera in RGB order.\n",
    "* ch_index (int): Color channel to process (in order [R, G, B])\n",
    "* E_ph=hc\\λ is photon energy, h is the Planck constant, c is the speed of light in vacuum and λ is the photon's wavelength.\n",
    "\n"
   ]
  },
  {
   "cell_type": "code",
   "execution_count": 2,
   "metadata": {},
   "outputs": [
    {
     "name": "stdout",
     "output_type": "stream",
     "text": [
      "constant factor should be 1395.703268036305\n"
     ]
    },
    {
     "data": {
      "text/plain": [
       "<matplotlib.legend.Legend at 0x7f8bd3447ad0>"
      ]
     },
     "execution_count": 2,
     "metadata": {},
     "output_type": "execute_result"
    },
    {
     "data": {
      "image/png": "[encoded data removed]",
      "text/plain": [
       "<Figure size 432x288 with 1 Axes>"
      ]
     },
     "metadata": {
      "needs_background": "light"
     },
     "output_type": "display_data"
    }
   ],
   "source": [
    "\n",
    "def plank(llambda,T):\n",
    "    h = 6.62607004e-34 # Planck constant\n",
    "    c = 3.0e8\n",
    "    k = 1.38064852e-23 # Boltzmann constant\n",
    "    # https://en.wikipedia.org/wiki/Planck%27s_law\n",
    "    a = 2.0*h*(c**2)\n",
    "    b = (h*c)/(llambda*k*T)\n",
    "    spectral_radiance = a/ ( (llambda**5) * (np.exp(b) - 1.0) )\n",
    "    return spectral_radiance\n",
    "\n",
    "#\n",
    "# Limits and density of the integraion.\n",
    "#\n",
    "start, end = 0.21, 2 # in micro meter [10^-6]\n",
    "dlambda = 0.005\n",
    "temp = 5900 #K\n",
    "xspl = np.linspace(start, end, int((end - start) / dlambda)+1)\n",
    "\n",
    "# dlambda = 0.005e-6\n",
    "# wavelengths = np.arange(380e-9, 830e-9, dlambda) # my old \n",
    "wavelengths = xspl\n",
    "\n",
    "# from https://socratic.org/questions/how-much-of-the-total-energy-that-leaves-the-sun-makes-it-to-earth-why\n",
    "# Considering Sun to be situated at the centre of sphere whose radius is equal to the average distance between sun and earth\n",
    "# which is 1.496×10^8km, erath radius is 6.371x10^3 km\n",
    "# Solid angle subtended by the area of earth exposed to sun is SA\n",
    "\n",
    "spectral_radiance_black_body = 6.8e-5*1e-9*plank(1e-6*wavelengths,temp) # units fo W/(m^2 nm) ,\n",
    "# I am assuming a solid angle of 6.8e-5 steradian for the source (the solar disk).\n",
    "\n",
    "plt.plot(wavelengths*1e3,spectral_radiance_black_body,color = 'r',label = 'black body at {}K'.format(temp))\n",
    "plt.title(\"Plancks Formula\", fontsize=14)\n",
    "plt.xlabel(\"$\\lambda [nm]$\", fontsize=14)# sinse x axis is wavelengths*1e3\n",
    "plt.ylabel(\"irradiance ($W/m^2/nm$)\", fontsize=14)\n",
    "\n",
    "B = np.trapz(spectral_radiance_black_body, x = xspl*1e3) # x is in nu \n",
    "print('constant factor should be {}'.format(B))\n",
    "\n",
    "# use aviads code:\n",
    "specturm = shdom.SolarSpectrum(filename='../ancillary_data/SpectralSolar_MODWehrli_1985_WMO.npz')\n",
    "Aviads_specturm = specturm.get_monochrome_solar_flux(wavelengths=wavelengths)\n",
    "plt.plot(wavelengths*1e3,Aviads_specturm,color = 'b',label = 'SHDOM data')\n",
    "plt.legend()\n",
    "# print('spectrum:{}, units: {}'.format(specturm.get_monochrome_solar_flux(wavelengths=[0.67, 0.8]), specturm.Spectral_Irradiance_units))"
   ]
  },
  {
   "cell_type": "code",
   "execution_count": 3,
   "metadata": {},
   "outputs": [],
   "source": [
    "Delta_lambda = 100e-9 # nm\n",
    "At = 50^2\n",
    "D = 5e-3 # lens diameter in [m]\n",
    "f = 1 # focal in [m]\n",
    "p = 1e-6 # pixel size in [m]\n",
    "A0 = np.pi*(D/2)**2\n",
    "r_sat = 500e3 # in [m]\n",
    "h = 6.62607004e-34 # Planck constant\n",
    "c = 3.0e8\n",
    "k = 1.38064852e-23 # Boltzmann constant\n",
    "exPt = 6.57e-3 # sec\n",
    "THETA0 = np.linspace(0.1, np.pi/4, 15)[np.newaxis]\n",
    "\n",
    "# peaking near 564–580 nm (red); medium-wavelength, \n",
    "# peaking near 534–545 nm (green); and short-wavelength light, near 420–440 nm (blue)"
   ]
  },
  {
   "cell_type": "markdown",
   "metadata": {},
   "source": [
    "# GREEN"
   ]
  },
  {
   "cell_type": "code",
   "execution_count": 4,
   "metadata": {},
   "outputs": [
    {
     "name": "stdout",
     "output_type": "stream",
     "text": [
      "The number of electrons that reach the pixel is 1003.931365423893\n"
     ]
    },
    {
     "data": {
      "image/png": "[encoded data removed]",
      "text/plain": [
       "<Figure size 432x288 with 1 Axes>"
      ]
     },
     "metadata": {
      "needs_background": "light"
     },
     "output_type": "display_data"
    }
   ],
   "source": [
    "start, end = 0.5, 0.6 # in micro meter [10^-6]\n",
    "dlambda = 0.005\n",
    "xspl = np.linspace(start, end, int((end - start) / dlambda)+1)\n",
    "ro = 0.3*np.ones_like(xspl)\n",
    "wavelengths = xspl\n",
    "\n",
    "spectral_radiance_black_body = 6.8e-5*1e-9*plank(1e-6*wavelengths,temp) # units fo W/(m^2 nm) ,\n",
    "# I am assuming a solid angle of 6.8e-5 st for the source (the solar disk).\n",
    "%matplotlib inline\n",
    "plt.plot(wavelengths*1e3,spectral_radiance_black_body,color = 'r',label = 'black body')\n",
    "plt.title(\"Plancks Formula\", fontsize=14)\n",
    "plt.xlabel(\"$\\lambda [nm]$\", fontsize=14)# sinse x axis is wavelengths*1e3\n",
    "plt.ylabel(\"irradiance ($W/m^2/nm$)\", fontsize=14)\n",
    "\n",
    "# calculate radiance on the top of the cloud\n",
    "B = spectral_radiance_black_body # units fo W/(m^2 nm) ,\n",
    "# I = np.cos(THETA0.T)*(ro*B)/np.pi # shape of (#angles, #wavelength) it is of units W/(m^2 st nm)\n",
    "I = (ro*B)/np.pi # shape of (#angles, #wavelength) it is of units W/(m^2 st nm)\n",
    "\n",
    "\n",
    "# calc E, the irradiance that reach a pixel \n",
    "# which pixel? the central, thus cos(alfa)^4 = 1\n",
    "alfa = 0\n",
    "L = I\n",
    "QE = 0.8\n",
    "\n",
    "DPHI = I*At*((np.pi*D**2)/4)/(r_sat**2)\n",
    "# E = L*(np.pi/4)*((D/f)**2)*(np.cos(alfa)**4)\n",
    "PHOTON_ENERGY = (h*c)/(1e-6*wavelengths)\n",
    "# Ne = (p**2)*exPt*np.trapz((E/PHOTON_ENERGY)*QE, x = xspl*1e3) # x is in nu \n",
    "Ne = exPt*np.trapz((DPHI/PHOTON_ENERGY)*QE, x = xspl*1e3) # x is in nu \n",
    "print('The number of electrons that reach the pixel is {}'.format(Ne))\n",
    "GREEN = Ne"
   ]
  },
  {
   "cell_type": "markdown",
   "metadata": {},
   "source": [
    "# RED"
   ]
  },
  {
   "cell_type": "code",
   "execution_count": 5,
   "metadata": {},
   "outputs": [
    {
     "name": "stdout",
     "output_type": "stream",
     "text": [
      "The number of electrons that reach the pixel is 1036.3247358620408\n"
     ]
    },
    {
     "data": {
      "image/png": "[encoded data removed]",
      "text/plain": [
       "<Figure size 432x288 with 1 Axes>"
      ]
     },
     "metadata": {
      "needs_background": "light"
     },
     "output_type": "display_data"
    }
   ],
   "source": [
    "start, end = 0.58, 0.68 # in micro meter [10^-6]\n",
    "dlambda = 0.005\n",
    "xspl = np.linspace(start, end, int((end - start) / dlambda)+1)\n",
    "ro = 0.3*np.ones_like(xspl)\n",
    "wavelengths = xspl\n",
    "\n",
    "spectral_radiance_black_body = 6.8e-5*1e-9*plank(1e-6*wavelengths,temp) # units fo W/(m^2 nm) ,\n",
    "# I am assuming a solid angle of 6.8e-5 st for the source (the solar disk).\n",
    "%matplotlib inline\n",
    "plt.plot(wavelengths*1e3,spectral_radiance_black_body,color = 'r',label = 'black body')\n",
    "plt.title(\"Plancks Formula\", fontsize=14)\n",
    "plt.xlabel(\"$\\lambda [nm]$\", fontsize=14)# sinse x axis is wavelengths*1e3\n",
    "plt.ylabel(\"irradiance ($W/m^2/nm$)\", fontsize=14)\n",
    "\n",
    "# calculate radiance on the top of the cloud\n",
    "B = spectral_radiance_black_body # units fo W/(m^2 nm) ,\n",
    "# I = np.cos(THETA0.T)*(ro*B)/np.pi # shape of (#angles, #wavelength) it is of units W/(m^2 st nm)\n",
    "I = (ro*B)/np.pi # shape of (#angles, #wavelength) it is of units W/(m^2 st nm)\n",
    "\n",
    "\n",
    "# calc E, the irradiance that reach a pixel \n",
    "# which pixel? the central, thus cos(alfa)^4 = 1\n",
    "alfa = 0\n",
    "L = I\n",
    "QE = 0.8\n",
    "\n",
    "DPHI = I*At*((np.pi*D**2)/4)/(r_sat**2)\n",
    "# E = L*(np.pi/4)*((D/f)**2)*(np.cos(alfa)**4)\n",
    "PHOTON_ENERGY = (h*c)/(1e-6*wavelengths)\n",
    "# Ne = (p**2)*exPt*np.trapz((E/PHOTON_ENERGY)*QE, x = xspl*1e3) # x is in nu \n",
    "Ne = exPt*np.trapz((DPHI/PHOTON_ENERGY)*QE, x = xspl*1e3) # x is in nu \n",
    "print('The number of electrons that reach the pixel is {}'.format(Ne))\n",
    "RED = Ne"
   ]
  },
  {
   "cell_type": "markdown",
   "metadata": {},
   "source": [
    "# BLUE"
   ]
  },
  {
   "cell_type": "code",
   "execution_count": 6,
   "metadata": {},
   "outputs": [
    {
     "name": "stdout",
     "output_type": "stream",
     "text": [
      "The number of electrons that reach the pixel is 826.8012641361418\n"
     ]
    },
    {
     "data": {
      "image/png": "[encoded data removed]",
      "text/plain": [
       "<Figure size 432x288 with 1 Axes>"
      ]
     },
     "metadata": {
      "needs_background": "light"
     },
     "output_type": "display_data"
    }
   ],
   "source": [
    "start, end = 0.4, 0.5 # in micro meter [10^-6]\n",
    "dlambda = 0.005\n",
    "xspl = np.linspace(start, end, int((end - start) / dlambda)+1)\n",
    "ro = 0.3*np.ones_like(xspl)\n",
    "wavelengths = xspl\n",
    "\n",
    "spectral_radiance_black_body = 6.8e-5*1e-9*plank(1e-6*wavelengths,temp) # units fo W/(m^2 nm) ,\n",
    "# I am assuming a solid angle of 6.8e-5 st for the source (the solar disk).\n",
    "%matplotlib inline\n",
    "plt.plot(wavelengths*1e3,spectral_radiance_black_body,color = 'r',label = 'black body')\n",
    "plt.title(\"Plancks Formula\", fontsize=14)\n",
    "plt.xlabel(\"$\\lambda [nm]$\", fontsize=14)# sinse x axis is wavelengths*1e3\n",
    "plt.ylabel(\"irradiance ($W/m^2/nm$)\", fontsize=14)\n",
    "\n",
    "# calculate radiance on the top of the cloud\n",
    "B = spectral_radiance_black_body # units fo W/(m^2 nm) ,\n",
    "# I = np.cos(THETA0.T)*(ro*B)/np.pi # shape of (#angles, #wavelength) it is of units W/(m^2 st nm)\n",
    "I = (ro*B)/np.pi # shape of (#angles, #wavelength) it is of units W/(m^2 st nm)\n",
    "\n",
    "\n",
    "# calc E, the irradiance that reach a pixel \n",
    "# which pixel? the central, thus cos(alfa)^4 = 1\n",
    "alfa = 0\n",
    "L = I\n",
    "QE = 0.8\n",
    "\n",
    "DPHI = I*At*((np.pi*D**2)/4)/(r_sat**2)\n",
    "# E = L*(np.pi/4)*((D/f)**2)*(np.cos(alfa)**4)\n",
    "PHOTON_ENERGY = (h*c)/(1e-6*wavelengths)\n",
    "# Ne = (p**2)*exPt*np.trapz((E/PHOTON_ENERGY)*QE, x = xspl*1e3) # x is in nu \n",
    "Ne = exPt*np.trapz((DPHI/PHOTON_ENERGY)*QE, x = xspl*1e3) # x is in nu \n",
    "print('The number of electrons that reach the pixel is {}'.format(Ne))\n",
    "BLUE = Ne"
   ]
  },
  {
   "cell_type": "markdown",
   "metadata": {},
   "source": [
    "# SWIR"
   ]
  },
  {
   "cell_type": "code",
   "execution_count": 131,
   "metadata": {},
   "outputs": [
    {
     "name": "stdout",
     "output_type": "stream",
     "text": [
      "The number of electrons that reach the pixel is 163.9285927125737\n",
      "test 163.92859271257373\n"
     ]
    },
    {
     "data": {
      "image/png": "[encoded data removed]",
      "text/plain": [
       "<Figure size 432x288 with 1 Axes>"
      ]
     },
     "metadata": {
      "needs_background": "light"
     },
     "output_type": "display_data"
    }
   ],
   "source": [
    "start, end = 1.55, 1.65 # in micro meter [10^-6]\n",
    "dlambda = 0.005\n",
    "xspl = np.linspace(start, end, int((end - start) / dlambda)+1)\n",
    "ro = 0.15*np.ones_like(xspl)\n",
    "wavelengths = xspl\n",
    "\n",
    "spectral_radiance_black_body = 6.8e-5*1e-9*plank(1e-6*wavelengths,temp) # units fo W/(m^2 nm) ,\n",
    "# I am assuming a solid angle of 6.8e-5 st for the source (the solar disk).\n",
    "\n",
    "plt.plot(wavelengths*1e3,spectral_radiance_black_body,color = 'r',label = 'black body')\n",
    "plt.title(\"Plancks Formula\", fontsize=14)\n",
    "plt.xlabel(\"$\\lambda [nm]$\", fontsize=14)# sinse x axis is wavelengths*1e3\n",
    "plt.ylabel(\"irradiance ($W/m^2/nm$)\", fontsize=14)\n",
    "\n",
    "# calculate radiance on the top of the cloud\n",
    "B = spectral_radiance_black_body # units fo W/(m^2 nm) ,\n",
    "I = (ro*B)/np.pi # shape of (#angles, #wavelength) it is of units W/(m^2 st nm)\n",
    "\n",
    "# calc E, the irradiance that reach a pixel \n",
    "# which pixel? the central, thus cos(alfa)^4 = 1\n",
    "alfa = 0\n",
    "L = I\n",
    "QE = 0.8\n",
    "\n",
    "DPHI = I*At*((np.pi*D**2)/4)/(r_sat**2)\n",
    "# E = L*(np.pi/4)*((D/f)**2)*(np.cos(alfa)**4)\n",
    "PHOTON_ENERGY = (h*c)/(1e-6*wavelengths)\n",
    "# Ne = (p**2)*exPt*np.trapz((E/PHOTON_ENERGY)*QE, x = xspl*1e3) # x is in nu \n",
    "Ne = exPt*np.trapz((DPHI/PHOTON_ENERGY)*QE, x = xspl*1e3) # x is in nu \n",
    "\n",
    "print('The number of electrons that reach the pixel is {}'.format(Ne))\n",
    "SWIR = Ne\n",
    "\n",
    "# test math:\n",
    "G = exPt*At*((np.pi)/4)/(r_sat**2)*(1/(h*c))*np.trapz((I*1e-6*wavelengths)*QE, x = xspl*1e3) # x is in nu \n",
    "Ne = (D**2)*G\n",
    "print('test {}'.format(Ne))"
   ]
  },
  {
   "cell_type": "code",
   "execution_count": 132,
   "metadata": {},
   "outputs": [
    {
     "data": {
      "text/plain": [
       "[826.8012641361418, 1003.931365423893, 1036.3247358620408, 163.9285927125737]"
      ]
     },
     "execution_count": 132,
     "metadata": {},
     "output_type": "execute_result"
    }
   ],
   "source": [
    "[BLUE,GREEN,RED,SWIR]"
   ]
  },
  {
   "cell_type": "markdown",
   "metadata": {},
   "source": [
    "# GENERAL"
   ]
  },
  {
   "cell_type": "code",
   "execution_count": 157,
   "metadata": {},
   "outputs": [
    {
     "name": "stdout",
     "output_type": "stream",
     "text": [
      "[0.545 0.546 0.547 0.548 0.549 0.55  0.551 0.552 0.553 0.554 0.555]\n",
      "D is 1.3786249975291758mm at 550.0nm\n",
      "[0.795 0.796 0.797 0.798 0.799 0.8   0.801 0.802 0.803 0.804 0.805]\n",
      "D is 1.4317292990359975mm at 800.0nm\n",
      "[1.595 1.596 1.597 1.598 1.599 1.6   1.601 1.602 1.603 1.604 1.605]\n",
      "D is 3.423685210865158mm at 1600.0nm\n"
     ]
    }
   ],
   "source": [
    "# UpperLimit = np.abs(wavelengths - 650*1e-9).argmin() \n",
    "# LowerLimit = np.abs(wavelengths - 400*1e-9).argmin()\n",
    "# limited_wavelengths = wavelengths[LowerLimit:UpperLimit]\n",
    "\n",
    "v= 7.61*1e3\n",
    "dx = 50\n",
    "r_sat = 500e3 # in [m]\n",
    "SNR = 200\n",
    "\n",
    "start, end = 0.21, 2 # in micro meter [10^-6]\n",
    "dlambda_g = 0.001\n",
    "xspl = np.linspace(start, end, int((end - start) / dlambda_g)+1)\n",
    "wavelengths = xspl\n",
    "\n",
    "inds = []\n",
    "ro = np.array([0.3,0.3,0.15])\n",
    "for el,i in enumerate([0.55,0.8,1.6]):\n",
    "    ind = (np.abs(wavelengths - i).argmin())\n",
    "\n",
    "    xspl = wavelengths[ind-5:ind+6]\n",
    "#     xspl = wavelengths[ind-50:ind+51]\n",
    "    print(xspl)\n",
    "    spectral_radiance_black_body = 6.8e-5*1e-9*plank(1e-6*xspl,temp) # units fo W/(m^2 nm) ,\n",
    "\n",
    "    I = (ro[el]*spectral_radiance_black_body)/np.pi # shape of (#angles, #wavelength) it is of units W/(m^2 st nm)\n",
    "\n",
    "    # calc E, the irradiance that reach a pixel \n",
    "    # which pixel? the central, thus cos(alfa)^4 = 1\n",
    "    L = I\n",
    "    QE = 0.8\n",
    "\n",
    "    G = (dx**3)*(((np.pi)/4)/(r_sat**2))*(1/(h*c*v))*np.trapz((I*1e-6*xspl)*QE, x = xspl*1e3) # x is in nu \n",
    "    D = np.sqrt(SNR**2/G)\n",
    "    print('D is {}mm at {}nm'.format(D*1e2,1e3*i))"
   ]
  },
  {
   "cell_type": "code",
   "execution_count": 122,
   "metadata": {},
   "outputs": [
    {
     "data": {
      "text/plain": [
       "array([1.77908416, 1.78400806, 1.78886644, 1.79365943, 1.79838717,\n",
       "       1.80304979, 1.80764744, 1.81218028, 1.81664847, 1.82105216,\n",
       "       1.82539155])"
      ]
     },
     "execution_count": 122,
     "metadata": {},
     "output_type": "execute_result"
    }
   ],
   "source": [
    "spectral_radiance_black_body"
   ]
  },
  {
   "cell_type": "code",
   "execution_count": 116,
   "metadata": {},
   "outputs": [
    {
     "data": {
      "text/plain": [
       "array([0.4  , 0.401, 0.402, 0.403, 0.404, 0.405, 0.406, 0.407, 0.408,\n",
       "       0.409, 0.41 ])"
      ]
     },
     "execution_count": 116,
     "metadata": {},
     "output_type": "execute_result"
    }
   ],
   "source": [
    "wavelengths[inds[0]-5:inds[0]+6]"
   ]
  },
  {
   "cell_type": "code",
   "execution_count": null,
   "metadata": {},
   "outputs": [],
   "source": []
  },
  {
   "cell_type": "code",
   "execution_count": 153,
   "metadata": {},
   "outputs": [
    {
     "name": "stdout",
     "output_type": "stream",
     "text": [
      "lamdas\n",
      "0.55\n",
      "black body rad\n",
      "1.9296260313728326\n",
      "--- D is 0.43594571752543565cm at 550.0nm\n",
      "lamdas\n",
      "0.7999999999999999\n",
      "black body rad\n",
      "1.2299644386906872\n",
      "--- D is 0.452750630846842cm at 800.0nm\n",
      "lamdas\n",
      "1.6\n",
      "black body rad\n",
      "0.2150895586749353\n",
      "--- D is 1.082668939173609cm at 1600.0nm\n"
     ]
    }
   ],
   "source": [
    "# UpperLimit = np.abs(wavelengths - 650*1e-9).argmin() \n",
    "# LowerLimit = np.abs(wavelengths - 400*1e-9).argmin()\n",
    "# limited_wavelengths = wavelengths[LowerLimit:UpperLimit]\n",
    "v= 7.61*1e3\n",
    "dx = 50\n",
    "r_sat = 500e3 # in [m]\n",
    "\n",
    "start, end = 0.21, 2 # in micro meter [10^-6]\n",
    "dlambda_g = 0.001\n",
    "xspl = np.linspace(start, end, int((end - start) / dlambda_g)+1)\n",
    "wavelengths = xspl\n",
    "\n",
    "\n",
    "inds = []\n",
    "ro = np.array([0.3,0.3,0.15])\n",
    "for el,i in enumerate([0.55,0.8,1.6]):\n",
    "    ind = (np.abs(wavelengths - i).argmin())\n",
    "    wlambda = wavelengths[ind]\n",
    "    Dlambda = 1e-9*100\n",
    "    print(\"lamdas\")\n",
    "    print(wlambda)\n",
    "    spectral_radiance_black_body = 6.8e-5*1e-9*plank(1e-6*wlambda,temp) # units fo W/(m^2 nm) ,\n",
    "    print(\"black body rad\")\n",
    "    print(spectral_radiance_black_body)\n",
    "    \n",
    "    I = (ro[el]*spectral_radiance_black_body)/np.pi # shape of (#angles, #wavelength) it is of units W/(m^2 st nm)\n",
    "\n",
    "    # calc E, the irradiance that reach a pixel \n",
    "    # which pixel? the central, thus cos(alfa)^4 = 1\n",
    "    L = I\n",
    "    QE = 0.8\n",
    "    SNR = 200\n",
    "\n",
    "    \n",
    "    D = np.sqrt((4*v*(r_sat**2)*(h*c)*(SNR**2))/((1e9*(ro[el]*spectral_radiance_black_body)*1e-6*wlambda)*QE*(dx**3)*Dlambda))\n",
    "    print('--- D is {}cm at {}nm'.format(D*1e2,1e3*i))"
   ]
  },
  {
   "cell_type": "code",
   "execution_count": 138,
   "metadata": {},
   "outputs": [
    {
     "data": {
      "text/plain": [
       "1.6"
      ]
     },
     "execution_count": 138,
     "metadata": {},
     "output_type": "execute_result"
    }
   ],
   "source": [
    "wlambda"
   ]
  },
  {
   "cell_type": "code",
   "execution_count": null,
   "metadata": {},
   "outputs": [],
   "source": []
  },
  {
   "cell_type": "code",
   "execution_count": null,
   "metadata": {},
   "outputs": [],
   "source": [
    "\n",
    "rte_solver = shdom.RteSolver(scene_params, numerical_params)\n",
    "rte_solver.set_medium(atmosphere)\n",
    "rte_solver.solve(maxiter=100)\n",
    "\n",
    "projection = shdom.MultiViewProjection()\n",
    "\n",
    "fov = 85.4187\n",
    "sc = 10\n",
    "cny= sc*ny\n",
    "cnx = sc*nx\n",
    "\n",
    "cny= 40\n",
    "cnx = 40\n",
    "\n",
    "origin = [[0.4 , 0.4 , 1.7333],\n",
    "          [0.4 , 0.4, 1.7333],\n",
    "          [0.0 , 0.0, 1.7333]]\n",
    "          \n",
    "lookat = [[0.4 , 0.4 , 1.06667],\n",
    "          [0.4 , 0.4 , 1.06667],\n",
    "          [0.0 , 0.0 , 1.06667]]          \n",
    "          \n",
    "# render 2 views and see the camera x,y,z , angles:\n",
    "for posind in range(len(lookat)):\n",
    "    x, y, z = origin[posind]  \n",
    "\n",
    "    tmpproj = shdom.PerspectiveProjection(fov, cnx, cny, x, y, z)\n",
    "    tmpproj.look_at_transform(lookat[posind],[0,1,0])\n",
    "    PHI, THETA = tmpproj.export_thete_phi()\n",
    "    projection.add_projection(tmpproj)\n",
    "    if(1):\n",
    "        fig, ax_list = plt.subplots(1, 2, figsize=(10, 10))\n",
    "        ax = ax_list.ravel()\n",
    "        pos = ax[0].imshow(PHI)\n",
    "        ax[0].set_title('PHI {}'.format(posind))\n",
    "        fig.colorbar(pos, ax=ax[0])    \n",
    "        \n",
    "        pos = ax[1].imshow(THETA)\n",
    "        ax[1].set_title('THETA')\n",
    "        fig.colorbar(pos, ax=ax[1])  \n",
    "        \n",
    "          \n",
    "    \n",
    "camera = shdom.Camera(shdom.RadianceSensor(), projection)\n",
    "images = camera.render(rte_solver, n_jobs=20)\n",
    "\n",
    "# show the renderings:\n",
    "f, axarr = plt.subplots(1, len(images), figsize=(20, 20))\n",
    "tookat_index = 0\n",
    "for ax, image in zip(axarr, images):\n",
    "    #image2show = resize_image(image=image,desired_res=[nx,ny])\n",
    "    image2show = image\n",
    "    ax.imshow(image2show,cmap='gray')\n",
    "    ax.invert_xaxis() \n",
    "    ax.invert_yaxis() \n",
    "    ax.axis('off') \n",
    "    ax.set_title('tookat_index is {}'.format(tookat_index))\n",
    "    tookat_index = tookat_index + 1\n",
    "    \n",
    "\n",
    "\n",
    "plt.show()\n"
   ]
  }
 ],
 "metadata": {
  "kernelspec": {
   "display_name": "pyshdom",
   "language": "python",
   "name": "pyshdom"
  },
  "language_info": {
   "codemirror_mode": {
    "name": "ipython",
    "version": 3
   },
   "file_extension": ".py",
   "mimetype": "text/x-python",
   "name": "python",
   "nbconvert_exporter": "python",
   "pygments_lexer": "ipython3",
   "version": "3.7.4"
  }
 },
 "nbformat": 4,
 "nbformat_minor": 2
}
