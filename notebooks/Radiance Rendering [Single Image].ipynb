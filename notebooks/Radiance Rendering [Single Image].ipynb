{
 "cells": [
  {
   "cell_type": "markdown",
   "metadata": {
    "ExecuteTime": {
     "end_time": "2019-04-24T11:05:39.179041Z",
     "start_time": "2019-04-24T11:05:39.170344Z"
    }
   },
   "source": [
    "# Single Image Rendering\n",
    "\n",
    "This notebook demonstrates how to solve the Radiative Transfer using SHDOM and render a single image. \n",
    "\n",
    "The image rendered is monochromatic - a single wavelength for which a mie table was previously calculated.\n",
    "\n",
    "---\n",
    "\n",
    "Related tutorials: \n",
    " - Make Mie Table.ipynb - how to create mie tables\n",
    " - Radiance Rendering [Multispectral].ipynb - how to create RGB (multispectral) images\n",
    " - Radiance Rendering [Multiview].ipynb - how to create multi-view images\n",
    "\n",
    "---\n",
    "\n",
    "The source Fortran code was created by Frank Evans and it is part of the SHDOM package: http://nit.colorado.edu/shdom.html\n",
    "\n",
    "The python wrapper was created by Aviad Levis, Technion Inst. of Technology 2019: https://github.com/aviadlevis/pyshdom"
   ]
  },
  {
   "cell_type": "code",
   "execution_count": 1,
   "metadata": {
    "ExecuteTime": {
     "end_time": "2019-05-22T11:31:06.079996Z",
     "start_time": "2019-05-22T11:31:05.258445Z"
    },
    "init_cell": true
   },
   "outputs": [],
   "source": [
    "\"\"\"\n",
    "Imports necessary for this notebook\n",
    "\"\"\"\n",
    "import os \n",
    "import matplotlib.pyplot as plt\n",
    "import numpy as np\n",
    "import pandas as pd\n",
    "import shdom\n",
    "from mayavi import mlab # if it fails, use (comandline) jupyter nbextension enable mayavi --user --py \n",
    "# mlab.init_notebook()"
   ]
  },
  {
   "cell_type": "code",
   "execution_count": 2,
   "metadata": {
    "ExecuteTime": {
     "end_time": "2019-05-21T07:26:35.375213Z",
     "start_time": "2019-05-21T07:26:34.706405Z"
    }
   },
   "outputs": [
    {
     "name": "stdout",
     "output_type": "stream",
     "text": [
      "Reading mie table from file: ../mie_tables/polydisperse/Water_672nm.scat\n"
     ]
    }
   ],
   "source": [
    "\"\"\" \n",
    " - MiePolydisperse object loads a previously saved mie table.\n",
    " - Rayleigh object initilizes Rayleigh scattering according to a temperature profile.\n",
    "   Temperature profile here is of summer mid-latitude for 0-20km taken from AFGL [1]\n",
    " - A Large-Eddy-Simulated [2] cloud michrophysical properties are loaded from a csv file.\n",
    "\n",
    "[1] G. P. Anderson, S. A. Clough, F. Kneizys, J. H. Chetwynd, and E. P. Shettle. \n",
    "    AFGL atmospheric constituentprofiles (0.120 km). Technical report, Air Force Geophysics Lab, 1986.\n",
    "[2] G. Matheou and D. Chung. Large-eddy simulation of stratified turbulence. \n",
    "    part CLARREO: Application of thestretched-vortex model to the atmospheric boundary layer.\n",
    "    Journal of the Atmospheric Sciences, 71(12):44394460,2014.\n",
    "\"\"\"\n",
    "# Mie scattering for water droplets\n",
    "mie = shdom.MiePolydisperse()\n",
    "mie.read_table(file_path='../mie_tables/polydisperse/Water_672nm.scat')\n",
    "\n",
    "# Generate a Microphysical medium\n",
    "droplets = shdom.MicrophysicalScatterer()\n",
    "droplets.load_from_csv('../synthetic_cloud_fields/jpl_les/rico32x37x26.txt', veff=0.1)\n",
    "\n",
    "droplets.add_mie(mie)\n",
    "\n",
    "# Rayleigh scattering for air molecules up to 20 km\n",
    "df = pd.read_csv('../ancillary_data/AFGL_summer_mid_lat.txt', comment='#', sep=' ')\n",
    "altitudes = df['Altitude(km)'].to_numpy(dtype=np.float32)\n",
    "temperatures = df['Temperature(k)'].to_numpy(dtype=np.float32)\n",
    "temperature_profile = shdom.GridData(shdom.Grid(z=altitudes), temperatures)\n",
    "air_grid = shdom.Grid(z=np.linspace(0, 20, 20))\n",
    "rayleigh = shdom.Rayleigh(wavelength=0.672)\n",
    "rayleigh.set_profile(temperature_profile.resample(air_grid))\n",
    "air = rayleigh.get_scatterer()"
   ]
  },
  {
   "cell_type": "markdown",
   "metadata": {},
   "source": [
    "Vadim add visualization of 3d fields"
   ]
  },
  {
   "cell_type": "code",
   "execution_count": 3,
   "metadata": {},
   "outputs": [],
   "source": [
    "\n",
    "# use mlab.init_notebook() if you want to disply mlab here.\n",
    "Grid_bounding_box = droplets.bounding_box\n",
    "Grid_shape = droplets.grid.shape\n",
    "xgrid = np.linspace(Grid_bounding_box.xmin, Grid_bounding_box.xmax,Grid_shape[0])\n",
    "ygrid = np.linspace(Grid_bounding_box.ymin, Grid_bounding_box.ymax,Grid_shape[1])\n",
    "zgrid = np.linspace(Grid_bounding_box.zmin, Grid_bounding_box.zmax,Grid_shape[2])   \n",
    "X, Y, Z = np.meshgrid(xgrid, ygrid, zgrid, indexing='ij')\n",
    "LWC_MAT = droplets.lwc.data;\n",
    "scf = mlab.pipeline.scalar_field(X, Y, Z,LWC_MAT)\n",
    "figh = mlab.gcf()\n",
    "mlab.pipeline.volume(scf, figure=figh,vmin=0.0,vmax=1.24) # no working on servers\n",
    "isosurface = mlab.pipeline.iso_surface(scf, contours=[0.0001],color = (1, 1,1),opacity=0.1,transparent=True)\n",
    "mlab.pipeline.volume(isosurface, figure=figh)\n",
    "mlab.pipeline.image_plane_widget(scf,plane_orientation='z_axes',slice_index=10)\n",
    "                            \n",
    "# figh.scene.anti_aliasing_frames = 0\n",
    "mlab.scalarbar()\n",
    "mlab.axes(figure=figh, xlabel=\"x (km)\", ylabel=\"y (km)\", zlabel=\"z (km)\") \n",
    "mlab.show()"
   ]
  },
  {
   "cell_type": "code",
   "execution_count": 4,
   "metadata": {
    "ExecuteTime": {
     "end_time": "2019-05-21T07:26:35.469802Z",
     "start_time": "2019-05-21T07:26:35.377730Z"
    }
   },
   "outputs": [
    {
     "name": "stdout",
     "output_type": "stream",
     "text": [
      "--- the wantmem variable before REDUCE is 274059000.0, memory usage is 1096236000.0\n",
      "--- the wantmem variable after REDUCE is 274059000.0, memory usage is 1096236000.0\n",
      "--- the wantmem variable after REDUCE in Mib is 1149.4867599359998\n",
      "--- The memory is being used per voxel is 20575.0\n",
      "---  SYSTEM MAX SIZE is 9223372036854775807\n",
      "--- MAXIG\tmax number of internal grid points is 266400\n",
      "--- MAXIC\tmax number of grid cells, between 1 and 2 times grid points is 399600\n",
      "--- MAXIV\tmax words for source function and radiance arrays; needed size is average spherical harmonic truncation times number of grid points is 85248000\n",
      "--- MAXIDO\tmax words for temporary discrete ordinate azimuthal array; needed size is max azimuths times number of grid points. is 4262400\n",
      "--- MAXIR\tThe RADIANCE defined by RADIANCE(MAXIV+MAXIG). MAXIR is 85514400\n",
      "--- NLM    spherical harmonic terms is 64\n",
      "--- ADAPTIVE GRID FACTOR    ratio of the max number of internal grid points to the number of base grid points is 5.0\n",
      "---  CELL_TO_POINT_RATIO is 1.5\n",
      "---  ml is 7\n",
      "---  mm is 7\n",
      "---  nbpts is 53280\n",
      "Scene Parameters: \n",
      "   Wavelength: [0.672 micron]\n",
      "   Surface: [Lambertian, albedo: 0.05]\n",
      "   Source: [Solar, flux: 1.0, azimuth: 65deg, zenith: 135deg]\n",
      "   Boundary Conditions: [x:open, y:open]\n",
      "\n",
      "Numerical Parameters: \n",
      "   num_mu_bins: 8\n",
      "   num_phi_bins: 16\n",
      "   split_accuracy: 0.1\n",
      "   deltam: True\n",
      "   spherical_harmonics_accuracy: 0.01\n",
      "   solution_accuracy: 0.0001\n",
      "   acceleration_flag: True\n",
      "   max_total_mb: 10000.0\n",
      "   adapt_grid_factor: 5\n",
      "   num_sh_term_factor: 5\n",
      "   cell_to_point_ratio: 1.5\n",
      "   high_order_radiance: True\n",
      "\n"
     ]
    }
   ],
   "source": [
    "\"\"\"\n",
    "Generate an Medium with two type of scatterers and initilize an RteSolver object. \n",
    "This will initialize all of shdom internal structures and grids.\n",
    "\n",
    "SceneParameters() contains parameters such as surface albedo and solar radiance\n",
    "NumericalParameters() contains parameters such as number of angular bins and split cell ratio.\n",
    "All parameters have default values which can be viewed using print(params.info).\n",
    "\"\"\"\n",
    "atmospheric_grid = droplets.grid + air.grid # Add two grids by finding the common grid which maintains the higher resolution grid.\n",
    "atmosphere = shdom.Medium(atmospheric_grid)\n",
    "atmosphere.add_scatterer(droplets, name='cloud')\n",
    "atmosphere.add_scatterer(air, name='air')\n",
    "\n",
    "numerical_params = shdom.NumericalParameters()\n",
    "scene_params = shdom.SceneParameters(\n",
    "    wavelength=mie.wavelength,\n",
    "    source=shdom.SolarSource(azimuth=65, zenith=135)\n",
    ")\n",
    "\n",
    "rte_solver = shdom.RteSolver(scene_params, numerical_params)\n",
    "rte_solver.set_medium(atmosphere)\n",
    "\n",
    "print(rte_solver.info)"
   ]
  },
  {
   "cell_type": "code",
   "execution_count": 5,
   "metadata": {
    "ExecuteTime": {
     "end_time": "2019-05-21T07:26:48.740857Z",
     "start_time": "2019-05-21T07:26:35.474627Z"
    }
   },
   "outputs": [],
   "source": [
    "\"\"\"\n",
    "Solve the Radiative Transfer for the domain using SHDOM: SOLVE_RTE procedure (src/unpolarized/shdomsub1.f).\n",
    "The outputs are the source function (J) and radiance field (I) which are stored in \n",
    "the shdom.RteSolver object. These are subsequently used for the rendering of an image.\n",
    "\"\"\"\n",
    "rte_solver.solve(maxiter=100)"
   ]
  },
  {
   "cell_type": "code",
   "execution_count": 6,
   "metadata": {
    "ExecuteTime": {
     "end_time": "2019-05-21T07:26:49.192555Z",
     "start_time": "2019-05-21T07:26:48.743288Z"
    }
   },
   "outputs": [
    {
     "data": {
      "text/plain": [
       "<matplotlib.colorbar.Colorbar at 0x7f7740077d90>"
      ]
     },
     "execution_count": 6,
     "metadata": {},
     "output_type": "execute_result"
    },
    {
     "data": {
      "image/png": "[encoded data removed]",
      "text/plain": [
       "<Figure size 432x288 with 2 Axes>"
      ]
     },
     "metadata": {
      "needs_background": "light"
     },
     "output_type": "display_data"
    }
   ],
   "source": [
    "\"\"\"\n",
    "Render an image by integrating the incoming radiance along the projection geometry defines (pixels).\n",
    "\"\"\"\n",
    "projection = shdom.OrthographicProjection(\n",
    "    bounding_box=droplets.grid.bounding_box, \n",
    "    x_resolution=0.02, \n",
    "    y_resolution=0.02, \n",
    "    azimuth=0.0, \n",
    "    zenith=0.0,\n",
    "    altitude='TOA'\n",
    ")\n",
    "camera = shdom.Camera(shdom.RadianceSensor(), projection)\n",
    "image = camera.render(rte_solver)\n",
    "\n",
    "%matplotlib inline\n",
    "plt.imshow(image)\n",
    "plt.gca().invert_yaxis() \n",
    "plt.gca().invert_xaxis() \n",
    "plt.colorbar()"
   ]
  },
  {
   "cell_type": "code",
   "execution_count": null,
   "metadata": {},
   "outputs": [],
   "source": []
  },
  {
   "cell_type": "code",
   "execution_count": 4,
   "metadata": {},
   "outputs": [],
   "source": []
  },
  {
   "cell_type": "code",
   "execution_count": null,
   "metadata": {},
   "outputs": [],
   "source": []
  }
 ],
 "metadata": {
  "celltoolbar": "Initialization Cell",
  "kernelspec": {
   "display_name": "Python 3",
   "language": "python",
   "name": "python3"
  },
  "language_info": {
   "codemirror_mode": {
    "name": "ipython",
    "version": 3
   },
   "file_extension": ".py",
   "mimetype": "text/x-python",
   "name": "python",
   "nbconvert_exporter": "python",
   "pygments_lexer": "ipython3",
   "version": "3.7.4"
  },
  "latex_envs": {
   "LaTeX_envs_menu_present": true,
   "autoclose": false,
   "autocomplete": true,
   "bibliofile": "biblio.bib",
   "cite_by": "apalike",
   "current_citInitial": 1,
   "eqLabelWithNumbers": true,
   "eqNumInitial": 1,
   "hotkeys": {
    "equation": "Ctrl-E",
    "itemize": "Ctrl-I"
   },
   "labels_anchors": false,
   "latex_user_defs": false,
   "report_style_numbering": false,
   "user_envs_cfg": false
  },
  "varInspector": {
   "cols": {
    "lenName": 16,
    "lenType": 16,
    "lenVar": 40
   },
   "kernels_config": {
    "python": {
     "delete_cmd_postfix": "",
     "delete_cmd_prefix": "del ",
     "library": "var_list.py",
     "varRefreshCmd": "print(var_dic_list())"
    },
    "r": {
     "delete_cmd_postfix": ") ",
     "delete_cmd_prefix": "rm(",
     "library": "var_list.r",
     "varRefreshCmd": "cat(var_dic_list()) "
    }
   },
   "types_to_exclude": [
    "module",
    "function",
    "builtin_function_or_method",
    "instance",
    "_Feature"
   ],
   "window_display": false
  }
 },
 "nbformat": 4,
 "nbformat_minor": 2
}
