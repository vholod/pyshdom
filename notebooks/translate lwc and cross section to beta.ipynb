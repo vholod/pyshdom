{
 "cells": [
  {
   "cell_type": "markdown",
   "metadata": {
    "collapsed": true
   },
   "source": [
    "# Transate cloud data to beta \n",
    "\n",
    "This Code translate **lwc - liquid water content* data (from a txt file) and **cross section** (from scat file according to the effective radius) into **extinction** (beta)\n",
    "\n",
    "===\n",
    "\n",
    "## Reading the medium txt file:\n",
    "in the txt file the first 6 row will look like:\n",
    "\n",
    "```txt\n",
    "#name=Stratocumulus water cloud\n",
    "#original_cloud_data=@storm/data2/gmatheou/Factory/jplles/rev153/rico.20.smagorinsky/MISR01/An\n",
    "#resampled_cloud_data_grid_size=20,20,40m\n",
    "1024 1024 65 3\n",
    "0.020 0.020     0.000     0.040     0.080     0.120     ...     2.520     2.560     2.600\n",
    "230 977 64 2.6620E-01 2.2502E+01\n",
    "```\n",
    "\n",
    "The third row specifies the grid resolution, in this example  $(dx, dy, dz) = (20, 20, 40) [m]$.\n",
    "\n",
    "The forth row specifies the grid size, in the example medium.shape will result  $(1024, 1024, 65)$. \n",
    "\n",
    "And the fifth row specifies the spacing the size of x,y voxels and the z grid, meaning  $dx,\\ dy,\\ z_0,\\ z_1,\\ z_2,\\ \\cdots,\\  z_{N_z}$\n",
    "\n",
    "From the sixth row till the end of the file, each row specifies the data in each voxel, for example:\n",
    "\n",
    "|   X index   |   Y index   |   Z index   |   lwc $[\\frac{g}{m^3}]$   |  Effective radius $[\\mu m]$  |\n",
    "| :---------: | :---------: | :---------: | :-------------: | :--------------------------: |\n",
    "| 230         | 977         |  64         | 2.6620E-01      |  2.2502E+01                  |\n",
    "\n",
    "\n",
    "And the relation between the extinction to lwc and effective radius is,\n",
    "$$extinction = lwc\\cdot cross\\_section(r_{eff}) = Q \\frac{\\pi r_{eff}^2}{\\frac{4}{3}\\pi {r_{eff}}^3\\rho}$$\n",
    "\n",
    "since $\\rho\\simeq1 [\\frac{g}{cm^3}]$, we can calaulate the foloowing,\n",
    "$$extinction = Q \\frac{\\pi r_{eff}^2}{\\frac{4}{3}\\pi {r_{eff}}^3}$$\n",
    "\n",
    "---\n",
    "\n",
    "## Reading the scat file:\n",
    "in this file the first 11 row will look like:\n",
    "\n",
    "```txt\n",
    "! Mie scattering table vs. effective radius (LWC=1 g/m^3)\n",
    "    0.672    0.672  wavelength range (micron)\n",
    " 1.000  W   particle density (g/cm^3) and type (Water, Ice, Aerosol)\n",
    "  0.133100E+01 -0.212827E-07  particle index of refraction\n",
    "gamma size distribution shape parameter\n",
    "  50    5.000   25.000  number, starting, ending effective radius\n",
    "  50    0.010    0.200  number, starting, ending effective variance\n",
    "  50   97.000    2.000  number, starting, ending shape parameter alpha\n",
    "  1222  maximum number of legendre coefficients allowed\n",
    "   5.0000   0.0100  0.32360E+03 0.999998    144  Reff\t Veff  Ext  Alb  Nleg\n",
    "      1.00000    2.54237    3.87643    4.55551    5.22360    5.86313    6.436 ...\n",
    "```\n",
    "\n",
    "The second row specifies the wavelength it was calculated to, in this example it's $0.672 [\\mu m]$.\n",
    "\n",
    "The next row specifies the partical density in $[\\frac{g}{cm^3}]$ and the types of particals. The distribution is by gamma size distribution.\n",
    "\n",
    "From the tenth row till the end of the file specifies folowing parameters and the legendre coefficiens pf the phase function:\n",
    "\n",
    "| Effective radius $[\\mu m]$ | Effective variance | Calculated cross section |    albedo | Number of legendre coefficients |\n",
    "| :------------------------: | :----------------: | :----------------------: | :-------: | :-----------------------------: |\n",
    "| 5.0000                     | 0.0100             |  0.32360E+03             | 0.999998  |  144                            |\n",
    "\n",
    "**HG phase function relation to Mie phase function**\n",
    "$g = $  taking the second legendre coefficien of Mie phase function by 3"
   ]
  },
  {
   "cell_type": "markdown",
   "metadata": {
    "ExecuteTime": {
     "end_time": "2019-08-09T08:40:13.104800Z",
     "start_time": "2019-08-09T08:40:13.100789Z"
    }
   },
   "source": [
    "## Assumptions\n",
    "\n",
    "* Effective varince $= 0.1031$\n",
    "* Albedo $= 1$\n",
    "* Wavelete $672\\ [nm]$\n",
    "* Cross - section from mie function\n",
    "* Size distribution gamma\n",
    "* Lwc and effective radius data is from LES\n"
   ]
  },
  {
   "cell_type": "markdown",
   "metadata": {
    "ExecuteTime": {
     "end_time": "2019-08-09T13:02:36.657342Z",
     "start_time": "2019-08-09T13:02:36.653353Z"
    }
   },
   "source": [
    "## initialization"
   ]
  },
  {
   "cell_type": "code",
   "execution_count": 1,
   "metadata": {
    "ExecuteTime": {
     "end_time": "2019-08-10T14:03:27.861047Z",
     "start_time": "2019-08-10T14:03:27.385330Z"
    },
    "collapsed": true
   },
   "outputs": [],
   "source": [
    "import numpy as np\n",
    "import scipy.io as sio"
   ]
  },
  {
   "cell_type": "markdown",
   "metadata": {},
   "source": [
    "## Parsering files"
   ]
  },
  {
   "cell_type": "markdown",
   "metadata": {
    "ExecuteTime": {
     "end_time": "2019-08-09T11:52:28.222964Z",
     "start_time": "2019-08-09T11:52:28.216980Z"
    }
   },
   "source": [
    " ### Mie .scat file"
   ]
  },
  {
   "cell_type": "code",
   "execution_count": 2,
   "metadata": {
    "ExecuteTime": {
     "end_time": "2019-08-10T14:03:28.335814Z",
     "start_time": "2019-08-10T14:03:27.863042Z"
    },
    "collapsed": true
   },
   "outputs": [],
   "source": [
    "# Open a file\n",
    "f = open(\"Water_672nm.scat\", \"r+\")\n",
    "\n",
    "scat_lines = f.readlines()\n",
    "\n",
    "# Close opend file\n",
    "f.close()\n",
    "\n",
    "wavelength = float(scat_lines[1].split()[0])\n",
    "\n",
    "# effective variance is chosen to be 0.1 - selecting the closest greater equal to 0.1\n",
    "var_eff_vec = np.array(scat_lines[6].split()[:3], dtype=float)\n",
    "var_eff_vec = np.linspace(var_eff_vec[1], var_eff_vec[2], int(var_eff_vec[0]))\n",
    "var_eff_par = round(var_eff_vec[ var_eff_vec >= 0.1 ][0], 4)\n",
    "\n",
    "num_var_eff = len(var_eff_vec)\n",
    "num_r_eff   = int(scat_lines[5].split()[0])\n",
    "\n",
    "g              = np.zeros(num_r_eff)\n",
    "r_eff_scat     = np.zeros(num_r_eff)\n",
    "var_eff_scat   = np.zeros(num_r_eff)\n",
    "cross_sec_scat = np.zeros(num_r_eff)\n",
    "\n",
    "ind1 = -1\n",
    "ind2 = -1\n",
    "\n",
    "for line_ind, line in enumerate(scat_lines[9:]):\n",
    "    line_arr = np.array(line.split())\n",
    "    if (line_arr[-1] == 'Nleg'):\n",
    "        if (float(line.split()[1]) == var_eff_par ):\n",
    "            ind1                += 1\n",
    "            r_eff_scat[ind1]     = float(line.split()[0])\n",
    "            var_eff_scat[ind1]   = float(line.split()[1])\n",
    "            cross_sec_scat[ind1] = float(line.split()[2])\n",
    "        \n",
    "    elif (float(line_arr[0]) == 1.) and (ind2 < ind1):\n",
    "        ind2   += 1\n",
    "        g[ind2] = float(line.split()[1]) / 3.\n"
   ]
  },
  {
   "cell_type": "markdown",
   "metadata": {
    "ExecuteTime": {
     "end_time": "2019-08-09T12:59:11.560748Z",
     "start_time": "2019-08-09T12:59:11.554764Z"
    }
   },
   "source": [
    "### LWC text file"
   ]
  },
  {
   "cell_type": "code",
   "execution_count": 3,
   "metadata": {
    "ExecuteTime": {
     "end_time": "2019-08-10T14:03:46.460395Z",
     "start_time": "2019-08-10T14:03:28.336800Z"
    },
    "collapsed": true
   },
   "outputs": [],
   "source": [
    "# Open a file\n",
    "f = open(\"rico20sn1024x1024x65.txt\", \"r+\")\n",
    "\n",
    "lwc_lines = f.readlines()\n",
    "\n",
    "# Close opend file\n",
    "f.close()\n",
    "\n",
    "nx = int(lwc_lines[3].split()[0])\n",
    "ny = int(lwc_lines[3].split()[1])\n",
    "nz = int(lwc_lines[3].split()[2])\n",
    "\n",
    "x_min = 0.0\n",
    "y_min = 0.0\n",
    "z_min = float(lwc_lines[4].split()[2])\n",
    "z_max = float(lwc_lines[4].split()[-1])\n",
    "\n",
    "cloud_field = np.zeros((nx, ny, nz))\n",
    "\n",
    "for line in lwc_lines[5:]:\n",
    "    [ indx, indy, indz ] = np.array(line.split()[:3], dtype=int) - 1\n",
    "    [ lwc_s, r_eff_s ]   = np.array(line.split()[3:], dtype=float)\n",
    "    if r_eff_s < r_eff_scat.min():\n",
    "        cloud_field[ indx, indy, indz ] = 0.\n",
    "    else:\n",
    "        nearst_reff_ind = np.argmin(abs(r_eff_scat - r_eff_s))\n",
    "        cloud_field[ indx, indy, indz ] = lwc_s * cross_sec_scat[nearst_reff_ind]\n"
   ]
  },
  {
   "cell_type": "code",
   "execution_count": 4,
   "metadata": {
    "ExecuteTime": {
     "end_time": "2019-08-10T14:03:51.883932Z",
     "start_time": "2019-08-10T14:03:46.462255Z"
    }
   },
   "outputs": [
    {
     "name": "stdout",
     "output_type": "stream",
     "text": [
      "extinction calculation is saved to rico20sn1024x1024x65_water_672nm.mat\n"
     ]
    }
   ],
   "source": [
    "filename_out = 'rico20sn1024x1024x65_water_672nm.mat'\n",
    "\n",
    "sio.savemat(filename_out, {'beta' : cloud_field})\n",
    "print( 'extinction calculation is saved to ' + filename_out )"
   ]
  }
 ],
 "metadata": {
  "kernelspec": {
   "display_name": "Python 3",
   "language": "python",
   "name": "python3"
  },
  "language_info": {
   "codemirror_mode": {
    "name": "ipython",
    "version": 3
   },
   "file_extension": ".py",
   "mimetype": "text/x-python",
   "name": "python",
   "nbconvert_exporter": "python",
   "pygments_lexer": "ipython3",
   "version": "3.7.4"
  },
  "toc": {
   "base_numbering": 1,
   "nav_menu": {},
   "number_sections": false,
   "sideBar": true,
   "skip_h1_title": false,
   "title_cell": "Table of Contents",
   "title_sidebar": "Contents",
   "toc_cell": false,
   "toc_position": {
    "height": "calc(100% - 180px)",
    "left": "10px",
    "top": "150px",
    "width": "229.333px"
   },
   "toc_section_display": true,
   "toc_window_display": true
  },
  "varInspector": {
   "cols": {
    "lenName": 16,
    "lenType": 16,
    "lenVar": 40
   },
   "kernels_config": {
    "python": {
     "delete_cmd_postfix": "",
     "delete_cmd_prefix": "del ",
     "library": "var_list.py",
     "varRefreshCmd": "print(var_dic_list())"
    },
    "r": {
     "delete_cmd_postfix": ") ",
     "delete_cmd_prefix": "rm(",
     "library": "var_list.r",
     "varRefreshCmd": "cat(var_dic_list()) "
    }
   },
   "position": {
    "height": "468px",
    "left": "1550px",
    "right": "20px",
    "top": "120px",
    "width": "350px"
   },
   "types_to_exclude": [
    "module",
    "function",
    "builtin_function_or_method",
    "instance",
    "_Feature"
   ],
   "window_display": true
  }
 },
 "nbformat": 4,
 "nbformat_minor": 2
}
