{
 "cells": [
  {
   "cell_type": "markdown",
   "metadata": {
    "collapsed": true
   },
   "source": [
    "# Transate cloud data to beta \n",
    "\n",
    "This Code translate **lwc - liquid water content* data (from a txt file) and **cross section** (from scat file according to the effective radius) into **extinction** (beta)\n",
    "\n",
    "===\n",
    "\n",
    "## Reading the medium txt file:\n",
    "in the txt file the first 6 row will look like:\n",
    "\n",
    "```txt\n",
    "#name=Stratocumulus water cloud\n",
    "#original_cloud_data=@storm/data2/gmatheou/Factory/jplles/rev153/rico.20.smagorinsky/MISR01/An\n",
    "#resampled_cloud_data_grid_size=20,20,40m\n",
    "1024 1024 65 3\n",
    "0.020 0.020     0.000     0.040     0.080     0.120     ...     2.520     2.560     2.600\n",
    "230 977 64 2.6620E-01 2.2502E+01\n",
    "```\n",
    "\n",
    "The third row specifies the grid resolution, in this example  $(dx, dy, dz) = (20, 20, 40) [m]$.\n",
    "\n",
    "The forth row specifies the grid size, in the example medium.shape will result  $(1024, 1024, 65)$. \n",
    "\n",
    "And the fifth row specifies the spacing the size of x,y voxels and the z grid, meaning  $dx,\\ dy,\\ z_0,\\ z_1,\\ z_2,\\ \\cdots,\\  z_{N_z}$\n",
    "\n",
    "From the sixth row till the end of the file, each row specifies the data in each voxel, for example:\n",
    "\n",
    "|   X index   |   Y index   |   Z index   |   lwc $[\\frac{g}{m^3}]$   |  Effective radius $[\\mu m]$  |\n",
    "| :---------: | :---------: | :---------: | :-------------: | :--------------------------: |\n",
    "| 230         | 977         |  64         | 2.6620E-01      |  2.2502E+01                  |\n",
    "\n",
    "\n",
    "And the relation between the extinction to lwc and effective radius is,\n",
    "$$extinction = lwc\\cdot cross\\_section(r_{eff}) = Q \\frac{\\pi r_{eff}^2}{\\frac{4}{3}\\pi {r_{eff}}^3\\rho}$$\n",
    "\n",
    "since $\\rho\\simeq1 [\\frac{g}{cm^3}]$, we can calaulate the foloowing,\n",
    "$$extinction = Q \\frac{\\pi r_{eff}^2}{\\frac{4}{3}\\pi {r_{eff}}^3}$$\n",
    "\n",
    "---\n",
    "\n",
    "## Reading the scat file:\n",
    "in this file the first 11 row will look like:\n",
    "\n",
    "```txt\n",
    "! Mie scattering table vs. effective radius (LWC=1 g/m^3)\n",
    "    0.672    0.672  wavelength range (micron)\n",
    " 1.000  W   particle density (g/cm^3) and type (Water, Ice, Aerosol)\n",
    "  0.133100E+01 -0.212827E-07  particle index of refraction\n",
    "gamma size distribution shape parameter\n",
    "  50    5.000   25.000  number, starting, ending effective radius\n",
    "  50    0.010    0.200  number, starting, ending effective variance\n",
    "  50   97.000    2.000  number, starting, ending shape parameter alpha\n",
    "  1222  maximum number of legendre coefficients allowed\n",
    "   5.0000   0.0100  0.32360E+03 0.999998    144  Reff\t Veff  Ext  Alb  Nleg\n",
    "      1.00000    2.54237    3.87643    4.55551    5.22360    5.86313    6.436 ...\n",
    "```\n",
    "\n",
    "The second row specifies the wavelength it was calculated to, in this example it's $0.672 [\\mu m]$.\n",
    "\n",
    "The next row specifies the partical density in $[\\frac{g}{cm^3}]$ and the types of particals. The distribution is by gamma size distribution.\n",
    "\n",
    "From the tenth row till the end of the file specifies folowing parameters and the legendre coefficiens pf the phase function:\n",
    "\n",
    "| Effective radius $[\\mu m]$ | Effective variance | Calculated cross section |    albedo | Number of legendre coefficients |\n",
    "| :------------------------: | :----------------: | :----------------------: | :-------: | :-----------------------------: |\n",
    "| 5.0000                     | 0.0100             |  0.32360E+03             | 0.999998  |  144                            |\n",
    "\n",
    "**HG phase function relation to Mie phase function**\n",
    "$g = $  taking the second legendre coefficien of Mie phase function by 3"
   ]
  },
  {
   "cell_type": "markdown",
   "metadata": {
    "ExecuteTime": {
     "end_time": "2019-08-09T08:40:13.104800Z",
     "start_time": "2019-08-09T08:40:13.100789Z"
    }
   },
   "source": [
    "## Assumptions\n",
    "\n",
    "* Effective varince $= 0.1031$\n",
    "* Albedo $= 1$\n",
    "* Wavelete $672\\ [nm]$\n",
    "* Cross - section from mie function\n",
    "* Size distribution gamma\n",
    "* Lwc and effective radius data is from LES\n"
   ]
  },
  {
   "cell_type": "markdown",
   "metadata": {
    "ExecuteTime": {
     "end_time": "2019-08-09T13:02:36.657342Z",
     "start_time": "2019-08-09T13:02:36.653353Z"
    }
   },
   "source": [
    "## initialization"
   ]
  },
  {
   "cell_type": "code",
   "execution_count": 31,
   "metadata": {
    "ExecuteTime": {
     "end_time": "2019-08-10T14:03:27.861047Z",
     "start_time": "2019-08-10T14:03:27.385330Z"
    }
   },
   "outputs": [],
   "source": [
    "import numpy as np\n",
    "import scipy.io as sio\n",
    "import shdom\n",
    "import glob\n",
    "import os "
   ]
  },
  {
   "cell_type": "markdown",
   "metadata": {},
   "source": [
    "## Parsering files"
   ]
  },
  {
   "cell_type": "markdown",
   "metadata": {
    "ExecuteTime": {
     "end_time": "2019-08-09T11:52:28.222964Z",
     "start_time": "2019-08-09T11:52:28.216980Z"
    }
   },
   "source": [
    " ### Mie .scat file"
   ]
  },
  {
   "cell_type": "code",
   "execution_count": 32,
   "metadata": {
    "ExecuteTime": {
     "end_time": "2019-08-10T14:03:28.335814Z",
     "start_time": "2019-08-10T14:03:27.863042Z"
    }
   },
   "outputs": [],
   "source": [
    "# Open a file\n",
    "f = open(\"../vadim/mie_tables/polydisperse/Water_672nm.scat\", \"r+\")\n",
    "\n",
    "scat_lines = f.readlines()\n",
    "\n",
    "# Close opend file\n",
    "f.close()\n",
    "\n",
    "wavelength = float(scat_lines[1].split()[0])\n",
    "\n",
    "# effective variance is chosen to be 0.1 - selecting the closest greater equal to 0.1\n",
    "var_eff_vec = np.array(scat_lines[6].split()[:3], dtype=float)\n",
    "var_eff_vec = np.linspace(var_eff_vec[1], var_eff_vec[2], int(var_eff_vec[0]))\n",
    "var_eff_par = round(var_eff_vec[ var_eff_vec >= 0.1 ][0], 4)\n",
    "\n",
    "num_var_eff = len(var_eff_vec)\n",
    "num_r_eff   = int(scat_lines[5].split()[0])\n",
    "\n",
    "g              = np.zeros(num_r_eff)\n",
    "r_eff_scat     = np.zeros(num_r_eff)\n",
    "var_eff_scat   = np.zeros(num_r_eff)\n",
    "cross_sec_scat = np.zeros(num_r_eff)\n",
    "\n",
    "ind1 = -1\n",
    "ind2 = -1\n",
    "\n",
    "for line_ind, line in enumerate(scat_lines[9:]):\n",
    "    line_arr = np.array(line.split())\n",
    "    if (line_arr[-1] == 'Nleg'):\n",
    "        if (float(line.split()[1]) == var_eff_par ):\n",
    "            ind1                += 1\n",
    "            r_eff_scat[ind1]     = float(line.split()[0])\n",
    "            var_eff_scat[ind1]   = float(line.split()[1])\n",
    "            cross_sec_scat[ind1] = float(line.split()[2])\n",
    "        \n",
    "    elif (float(line_arr[0]) == 1.) and (ind2 < ind1):\n",
    "        ind2   += 1\n",
    "        g[ind2] = float(line.split()[1]) / 3.\n"
   ]
  },
  {
   "cell_type": "markdown",
   "metadata": {
    "ExecuteTime": {
     "end_time": "2019-08-09T12:59:11.560748Z",
     "start_time": "2019-08-09T12:59:11.554764Z"
    }
   },
   "source": [
    "### LWC text file"
   ]
  },
  {
   "cell_type": "code",
   "execution_count": 33,
   "metadata": {
    "ExecuteTime": {
     "end_time": "2019-08-10T14:03:46.460395Z",
     "start_time": "2019-08-10T14:03:28.336800Z"
    }
   },
   "outputs": [],
   "source": [
    "# Open a file\n",
    "f = open(\"../synthetic_cloud_fields/Tamars_data/rico20sn1024x1024x65.txt\", \"r+\")\n",
    "\n",
    "lwc_lines = f.readlines()\n",
    "\n",
    "# Close opend file\n",
    "f.close()\n",
    "\n",
    "nx = int(lwc_lines[3].split()[0])\n",
    "ny = int(lwc_lines[3].split()[1])\n",
    "nz = int(lwc_lines[3].split()[2])\n",
    "\n",
    "x_min = 0.0\n",
    "y_min = 0.0\n",
    "z_min = float(lwc_lines[4].split()[2])\n",
    "z_max = float(lwc_lines[4].split()[-1])\n",
    "\n",
    "cloud_field = np.zeros((nx, ny, nz))\n",
    "reff_field = np.zeros((nx, ny, nz))\n",
    "lwc_field = np.zeros((nx, ny, nz))\n",
    "\n",
    "\n",
    "for line in lwc_lines[5:]:\n",
    "    [ indx, indy, indz ] = np.array(line.split()[:3], dtype=int) - 1\n",
    "    [ lwc_s, r_eff_s ]   = np.array(line.split()[3:], dtype=float)\n",
    "    reff_field[ indx, indy, indz ] = r_eff_s\n",
    "    lwc_field[ indx, indy, indz ] = lwc_s\n",
    "    \n",
    "    if r_eff_s < r_eff_scat.min():\n",
    "        cloud_field[ indx, indy, indz ] = 0.\n",
    "    else:\n",
    "        nearst_reff_ind = np.argmin(abs(r_eff_scat - r_eff_s))\n",
    "        cloud_field[ indx, indy, indz ] = lwc_s * cross_sec_scat[nearst_reff_ind]\n"
   ]
  },
  {
   "cell_type": "code",
   "execution_count": 4,
   "metadata": {
    "ExecuteTime": {
     "end_time": "2019-08-10T14:03:51.883932Z",
     "start_time": "2019-08-10T14:03:46.462255Z"
    }
   },
   "outputs": [
    {
     "name": "stdout",
     "output_type": "stream",
     "text": [
      "extinction calculation is saved to rico20sn1024x1024x65_water_672nm.mat\n"
     ]
    }
   ],
   "source": [
    "filename_out = 'rico20sn1024x1024x65_water_672nm.mat'\n",
    "\n",
    "sio.savemat(filename_out, {'beta' : cloud_field})\n",
    "print( 'extinction calculation is saved to ' + filename_out )"
   ]
  },
  {
   "cell_type": "markdown",
   "metadata": {},
   "source": [
    "Use mayavi to plot the medium"
   ]
  },
  {
   "cell_type": "code",
   "execution_count": 5,
   "metadata": {},
   "outputs": [],
   "source": [
    "from mayavi import mlab"
   ]
  },
  {
   "cell_type": "code",
   "execution_count": 16,
   "metadata": {},
   "outputs": [],
   "source": [
    "def load_MAT_FILE(mat_path):\n",
    "    if os.path.exists(mat_path):\n",
    "        print(\"loading the 3D mat from: {}\".format(mat_path))\n",
    "    else:\n",
    "        print(\"{} not exists\".format(mat_path))    \n",
    "    \n",
    "    matrix3D = sio.loadmat(mat_path)\n",
    "    return matrix3D\n",
    "\n",
    "def viz3D(cloud_field):\n",
    "        \n",
    "    nx,ny,nz = cloud_field.shape\n",
    "    dx, dy, dz = (1,1,1)\n",
    "    \n",
    "    xgrid = np.linspace(0, nx - 1,nx)\n",
    "    ygrid = np.linspace(0, ny - 1,ny)\n",
    "    zgrid = np.linspace(0, nz - 1,nz) \n",
    "    X, Y, Z = np.meshgrid(xgrid, ygrid, zgrid, indexing='ij')\n",
    "    figh = mlab.gcf()\n",
    "    src = mlab.pipeline.scalar_field(X, Y, Z, cloud_field)\n",
    "    src.spacing = [dx, dy, dz]\n",
    "    src.update_image_data = True \n",
    "    \n",
    "    isosurface = mlab.pipeline.iso_surface(src, contours=[0.1*cloud_field.max(),\\\n",
    "                                                          0.2*cloud_field.max(),\\\n",
    "                                                          0.3*cloud_field.max(),\\\n",
    "                                                          0.4*cloud_field.max(),\\\n",
    "                                                          0.5*cloud_field.max(),\\\n",
    "                                                          0.6*cloud_field.max(),\\\n",
    "                                                          0.7*cloud_field.max(),\\\n",
    "                                                          0.8*cloud_field.max(),\\\n",
    "                                                          0.9*cloud_field.max(),\\\n",
    "                                                          ],opacity=0.9)\n",
    "    mlab.pipeline.volume(isosurface, figure=figh)\n",
    "    color_bar = mlab.colorbar(title=\"volume\", orientation='vertical', nb_labels=5)\n",
    "\n",
    "    mlab.outline(figure=figh,color = (1, 1, 1))  # box around data axes\n",
    "    mlab.orientation_axes(figure=figh)\n",
    "    mlab.axes(figure=figh, xlabel=\"x (km)\", ylabel=\"y (km)\", zlabel=\"z (km)\")    \n",
    "    mlab.show()    "
   ]
  },
  {
   "cell_type": "markdown",
   "metadata": {},
   "source": [
    "Plot the whole medium"
   ]
  },
  {
   "cell_type": "code",
   "execution_count": 17,
   "metadata": {},
   "outputs": [],
   "source": [
    "nx,ny,nz = cloud_field.shape\n",
    "xgrid = np.linspace(0, nx - 1,nx)\n",
    "ygrid = np.linspace(0, ny - 1,ny)\n",
    "zgrid = np.linspace(0, nz - 1,nz) \n",
    "X, Y, Z = np.meshgrid(xgrid, ygrid, zgrid, indexing='ij')\n",
    "\n",
    "viz3D(cloud_field)\n"
   ]
  },
  {
   "cell_type": "markdown",
   "metadata": {},
   "source": [
    "Cut the medium and creat many sub-mediums and save the txt files"
   ]
  },
  {
   "cell_type": "code",
   "execution_count": 52,
   "metadata": {},
   "outputs": [
    {
     "name": "stdout",
     "output_type": "stream",
     "text": [
      "The shapes befor padding\n",
      "The shape  of lwc0 is (19, 19, 19)\n",
      "The shape  of lwc1 is (29, 29, 29)\n",
      "The shape  of lwc2 is (59, 59, 59)\n",
      "The shape  of lwc3 is (79, 79, 65)\n",
      "The shape  of lwc4 is (99, 99, 65)\n",
      "The shape  of lwc5 is (119, 119, 65)\n",
      "The shape  of lwc6 is (150, 250, 65)\n",
      "The shape  of reff0 is (19, 19, 19)\n",
      "The shape  of reff1 is (29, 29, 29)\n",
      "The shape  of reff2 is (59, 59, 59)\n",
      "The shape  of reff3 is (79, 79, 65)\n",
      "The shape  of reff4 is (99, 99, 65)\n",
      "The shape  of reff5 is (119, 119, 65)\n",
      "The shape  of reff6 is (150, 250, 65)\n",
      "The shape of lwc0, after padding is (21, 21, 21)\n",
      "The z range of lwc0, befor padding is [1.52,2.24]\n",
      "The z range of lwc0, after padding is [0.0,0.8000000000000003]\n",
      "The shape of lwc1, after padding is (31, 31, 31)\n",
      "The z range of lwc1, befor padding is [1.12,2.24]\n",
      "The z range of lwc1, after padding is [0.0,1.2000000000000002]\n",
      "The shape of lwc2, after padding is (61, 61, 61)\n",
      "The z range of lwc2, befor padding is [0.24,2.56]\n",
      "The z range of lwc2, after padding is [0.0,2.4]\n",
      "The shape of lwc3, after padding is (81, 81, 67)\n",
      "The z range of lwc3, befor padding is [0.0,2.56]\n",
      "The z range of lwc3, after padding is [0.0,2.64]\n",
      "The shape of lwc4, after padding is (101, 101, 67)\n",
      "The z range of lwc4, befor padding is [0.0,2.56]\n",
      "The z range of lwc4, after padding is [0.0,2.64]\n",
      "The shape of lwc5, after padding is (121, 121, 67)\n",
      "The z range of lwc5, befor padding is [0.0,2.56]\n",
      "The z range of lwc5, after padding is [0.0,2.64]\n",
      "The shape of lwc6, after padding is (152, 252, 67)\n",
      "The z range of lwc6, befor padding is [0.0,2.56]\n",
      "The z range of lwc6, after padding is [0.0,2.64]\n"
     ]
    }
   ],
   "source": [
    "# Field = reff_field\n",
    "# Field = lwc_field\n",
    "\n",
    "# mediume parameters:\n",
    "dx,dy,dz=(1e-3*20,1e-3*20,1e-3*40) # in km\n",
    "zgrid = np.linspace(z_min, z_max-dz ,nz)\n",
    "\n",
    "# cut function\n",
    "def cut_medium(Field,type_='volume',zgrid=[0]):\n",
    "    if(type_ is 'lwc'):\n",
    "        lwc0 = Field[76:95, 134:153, 38:57]\n",
    "        z0 = zgrid[38:57]\n",
    "        \n",
    "        lwc1 = Field[76:105, 124:153, 28:57]\n",
    "        z1 = zgrid[28:57]\n",
    "            \n",
    "        lwc2 = Field[61:120, 109:168, 6:65]\n",
    "        z2 = zgrid[6:65]\n",
    "     \n",
    "        lwc3 = Field[51:130, 99:178, :]\n",
    "        z3 = zgrid\n",
    "        \n",
    "        lwc4 = Field[41:140, 89:188,:]\n",
    "        z4 = zgrid\n",
    "        \n",
    "        lwc5 = Field[16:135, 79:198, :]\n",
    "        z5 = zgrid\n",
    "        \n",
    "        lwc6 = Field[0:150, 0:250, :]\n",
    "        z6 = zgrid\n",
    "        \n",
    "        med_list = [lwc0,lwc1,lwc2,lwc3,lwc4,lwc5,lwc6]\n",
    "        zrange_list = [z0,z1,z2,z3,z4,z5,z6]\n",
    "        \n",
    "    if(type_ is 'reff'):\n",
    "        reff0 = Field[76:95, 134:153, 38:57]\n",
    "        z0 = zgrid[38:57]\n",
    "        \n",
    "        reff1 = Field[76:105, 124:153, 28:57]\n",
    "        z1 = zgrid[28:57]\n",
    "        \n",
    "        reff2 = Field[61:120, 109:168, 6:65]\n",
    "        z2 = zgrid[6:65]\n",
    "        \n",
    "        reff3 = Field[51:130, 99:178, :]\n",
    "        z3 = zgrid\n",
    "        \n",
    "        reff4 = Field[41:140, 89:188,:]\n",
    "        z4 = zgrid\n",
    "        \n",
    "        reff5 = Field[16:135, 79:198, :]\n",
    "        z5 = zgrid\n",
    "        \n",
    "        reff6 = Field[0:150, 0:250, :]\n",
    "        z6 = zgrid\n",
    "        \n",
    "        med_list = [reff0,reff1,reff2,reff3,reff4,reff5,reff6]\n",
    "        zrange_list = [z0,z1,z2,z3,z4,z5,z6]\n",
    "    \n",
    "    med_names = [type_+str(i) for i in range(7)]\n",
    "    \n",
    "    for med_name,med in zip(med_names,med_list):\n",
    "        print(\"The shape  of {} is {}\".format(med_name,med.shape))\n",
    "\n",
    "    return med_list, zrange_list, med_names\n",
    "\n",
    "# main\n",
    "print(\"The shapes befor padding\")\n",
    "lwc_list, zrange_list, lwc_names = cut_medium(lwc_field,'lwc',zgrid)\n",
    "reff_list, zrange_list_test, reff_names = cut_medium(reff_field,'reff',zgrid)\n",
    "u = [i==j for i,j in zip(zrange_list,zrange_list_test)]\n",
    "for i in u:\n",
    "    for j in i:\n",
    "        assert j ,\"Problem with indexes ranges in func. cut_medium.\"\n",
    "\n",
    "\n",
    "savetxt = True\n",
    "\n",
    "# fixed padding:\n",
    "npad = ((1, 1), (1, 1), (1, 1))\n",
    "\n",
    "for lwc_name,lwc, reff,zrange in zip(lwc_names,lwc_list,reff_list,zrange_list):\n",
    "    #viz3D(lwc)\n",
    "    \n",
    "    # do the padding here\n",
    "    tmpvol_lwc = np.pad(lwc, pad_width=npad, mode='constant', constant_values=0.0)\n",
    "    tmpvol_reff = np.pad(reff, pad_width=npad, mode='constant', constant_values=0.0)\n",
    "    print(\"The shape of {}, after padding is {}\".format(lwc_name,tmpvol_lwc.shape))\n",
    "    \n",
    "    # set cloud bottom to zero:\n",
    "    zds = np.linspace(0, (max(zrange)+dz) - (min(zrange)-dz) ,tmpvol_lwc.shape[2]) \n",
    "    print(\"The z range of {}, befor padding is [{},{}]\".format(lwc_name,min(zrange),max(zrange)))\n",
    "    print(\"The z range of {}, after padding is [{},{}]\".format(lwc_name,zds.min(),zds.max()))\n",
    "    if(savetxt):\n",
    "        file_name = \"tamar_cvpr_rico{}x{}x{}.txt\"\\\n",
    "            .format(tmpvol_lwc.shape[0],tmpvol_lwc.shape[1],tmpvol_lwc.shape[2])\n",
    "        # create the txt files:\n",
    "        comment_line = \"tamar cvpr\"\n",
    "        np.savetxt(file_name, X=np.array([tmpvol_lwc.shape]), fmt='%d', header=comment_line)\n",
    "        f = open(file_name, 'ab') \n",
    "        \n",
    "        \n",
    "        \n",
    "        \n",
    "        np.savetxt(f, X=np.concatenate((np.array([dx, dy]), zds)).reshape(1,-1), fmt='%2.3f')\n",
    "        \n",
    "        nx, ny, nz = tmpvol_lwc.shape\n",
    "        lwc = tmpvol_lwc\n",
    "        reff = tmpvol_reff\n",
    "        \n",
    "        y, x, z = np.meshgrid(range(ny), range(nx), range(nz))\n",
    "        data = np.vstack((x.ravel(), y.ravel(), z.ravel(), lwc.ravel(), reff.ravel())).T\n",
    "        np.savetxt(f, X=data, fmt='%d %d %d %.5f %.3f')        \n",
    "        f.close()  \n",
    "\n"
   ]
  },
  {
   "cell_type": "markdown",
   "metadata": {},
   "source": [
    "load and visualize the saved txt and evaluate"
   ]
  },
  {
   "cell_type": "code",
   "execution_count": 57,
   "metadata": {},
   "outputs": [
    {
     "name": "stdout",
     "output_type": "stream",
     "text": [
      "Reading mie table from file: /home/vhold/pyshdom/vadim/mie_tables/polydisperse/Water_672nm.scat\n",
      "-- current lwc size is (101, 101, 67)\n",
      "-- current dx,dy,dz are 0.019999999552965164,0.019999999552965164,0.04000000158945719\n",
      "-- current lwc size is (121, 121, 67)\n",
      "-- current dx,dy,dz are 0.019999999552965164,0.019999999552965164,0.04000000158945719\n",
      "-- current lwc size is (152, 252, 67)\n",
      "-- current dx,dy,dz are 0.019999999552965164,0.019999999552965164,0.04000000158945719\n",
      "-- current lwc size is (21, 21, 21)\n",
      "-- current dx,dy,dz are 0.019999999552965164,0.019999999552965164,0.04000000059604645\n",
      "-- current lwc size is (31, 31, 31)\n",
      "-- current dx,dy,dz are 0.019999999552965164,0.019999999552965164,0.04000000158945719\n",
      "-- current lwc size is (61, 61, 61)\n",
      "-- current dx,dy,dz are 0.019999999552965164,0.019999999552965164,0.04000000158945719\n",
      "-- current lwc size is (81, 81, 67)\n",
      "-- current dx,dy,dz are 0.019999999552965164,0.019999999552965164,0.04000000158945719\n"
     ]
    }
   ],
   "source": [
    "\n",
    "\n",
    "txt_files = sorted(glob.glob('./tamar_cvpr_rico*.txt'))\n",
    "txt_files_names = [os.path.split(i)[-1] for i in txt_files]\n",
    "# Mie scattering for water droplets\n",
    "mie = shdom.MiePolydisperse()\n",
    "mie.read_table(file_path='/home/vhold/pyshdom/vadim/mie_tables/polydisperse/Water_672nm.scat')\n",
    "\n",
    "for file in txt_files_names:\n",
    "    mlab.figure(size=(600, 600))\n",
    "    droplets = shdom.MicrophysicalScatterer()\n",
    "    droplets.load_from_csv(file, veff=0.1)\n",
    "    droplets.add_mie(mie)\n",
    "    \n",
    "    Grid_bounding_box = droplets.bounding_box\n",
    "    Grid_shape = droplets.grid.shape\n",
    "    xgrid = np.linspace(Grid_bounding_box.xmin, Grid_bounding_box.xmax,Grid_shape[0])\n",
    "    ygrid = np.linspace(Grid_bounding_box.ymin, Grid_bounding_box.ymax,Grid_shape[1])\n",
    "    zgrid = np.linspace(Grid_bounding_box.zmin, Grid_bounding_box.zmax,Grid_shape[2])     \n",
    "\n",
    "    X, Y, Z = np.meshgrid(xgrid, ygrid, zgrid, indexing='ij')\n",
    "    LWC_MAT = droplets.lwc.data\n",
    "    RE_MAT = droplets.reff.data  \n",
    "    print(\"-- current lwc size is {}\".format(LWC_MAT.shape))\n",
    "    nx, ny, nz = LWC_MAT.shape\n",
    "    \n",
    "    dx = droplets.lwc.grid.dx\n",
    "    dy = droplets.lwc.grid.dy\n",
    "    dz = (Grid_bounding_box.zmax- Grid_bounding_box.zmin)/(nz-1)\n",
    "    print(\"-- current dx,dy,dz are {},{},{}\".format(dx,dy,dz))\n",
    "    viz3D(LWC_MAT)\n",
    "    viz3D(RE_MAT)"
   ]
  },
  {
   "cell_type": "code",
   "execution_count": null,
   "metadata": {},
   "outputs": [],
   "source": []
  },
  {
   "cell_type": "code",
   "execution_count": null,
   "metadata": {},
   "outputs": [],
   "source": []
  },
  {
   "cell_type": "code",
   "execution_count": 48,
   "metadata": {},
   "outputs": [
    {
     "data": {
      "text/plain": [
       "array([0.  , 0.04, 0.08, 0.12, 0.16, 0.2 , 0.24, 0.28, 0.32, 0.36, 0.4 ,\n",
       "       0.44, 0.48, 0.52, 0.56, 0.6 , 0.64, 0.68, 0.72, 0.76, 0.8 , 0.84,\n",
       "       0.88, 0.92, 0.96, 1.  , 1.04, 1.08, 1.12, 1.16, 1.2 , 1.24, 1.28,\n",
       "       1.32, 1.36, 1.4 , 1.44, 1.48, 1.52, 1.56, 1.6 , 1.64, 1.68, 1.72,\n",
       "       1.76, 1.8 , 1.84, 1.88, 1.92, 1.96, 2.  , 2.04, 2.08, 2.12, 2.16,\n",
       "       2.2 , 2.24, 2.28, 2.32, 2.36, 2.4 , 2.44, 2.48, 2.52, 2.56])"
      ]
     },
     "execution_count": 48,
     "metadata": {},
     "output_type": "execute_result"
    }
   ],
   "source": [
    "zgrid = np.linspace(z_min, z_max-dz ,nz)\n",
    "zgrid"
   ]
  },
  {
   "cell_type": "code",
   "execution_count": 49,
   "metadata": {},
   "outputs": [
    {
     "data": {
      "text/plain": [
       "(65,)"
      ]
     },
     "execution_count": 49,
     "metadata": {},
     "output_type": "execute_result"
    }
   ],
   "source": [
    "zgrid.shape"
   ]
  },
  {
   "cell_type": "markdown",
   "metadata": {},
   "source": [
    "# Tamars new medium:"
   ]
  },
  {
   "cell_type": "code",
   "execution_count": 34,
   "metadata": {},
   "outputs": [
    {
     "name": "stdout",
     "output_type": "stream",
     "text": [
      "The shapes befor padding\n",
      "The shape  of reff is (100, 150, 65)\n"
     ]
    }
   ],
   "source": [
    "\"\"\"\n",
    "Cropped cloud from JPL, saved in rico20sn1024x1024x65_water_672nm.mat\n",
    "\n",
    "With the following assumptions:\n",
    "- Effective varince = 0.1031\n",
    "- Albedo =1\n",
    "- Wavelete 672[ nm ]\n",
    "- Size distribution gamma\n",
    "- Cross - section from mie function\n",
    "- Lwc and effective radius data is from LES\n",
    "\n",
    "extinction units are km^(-1)]nx spacing in km = 0.02\n",
    "y spacing in km = 0.02\n",
    "z spacing in km = 0.04\n",
    "cloud indexs (xs:xe,ys:ye,:) = (14:65,1:50,:)\n",
    "\"\"\"\n",
    "\n",
    "dx,dy,dz=(1e-3*20,1e-3*20,1e-3*40) # in km\n",
    "zgrid = np.linspace(z_min, z_max-dz ,nz)\n",
    "\n",
    "# cut function\n",
    "def cut_medium(Field,type_='volume',zgrid=[0]):\n",
    "    if(type_ is 'lwc'):\n",
    "        #188:287,875:1024,:\n",
    "        lwc = Field[187:287,874:1024,:]\n",
    "        z = zgrid\n",
    "        \n",
    "        med = lwc\n",
    "        \n",
    "    if(type_ is 'reff'):\n",
    "        reff = Field[187:287,874:1024,:]\n",
    "        z = zgrid\n",
    "        \n",
    "        med = reff\n",
    "    \n",
    "    \n",
    "        print(\"The shape  of {} is {}\".format(type_,med.shape))\n",
    "\n",
    "    return med, z\n",
    "\n",
    "# main\n",
    "print(\"The shapes befor padding\")\n",
    "lwc, zrange = cut_medium(lwc_field,'lwc',zgrid)\n",
    "reff, zrange = cut_medium(reff_field,'reff',zgrid)\n",
    "\n",
    "\n"
   ]
  },
  {
   "cell_type": "code",
   "execution_count": 35,
   "metadata": {},
   "outputs": [
    {
     "name": "stdout",
     "output_type": "stream",
     "text": [
      "The z range befor padding is [0.0,2.56]\n",
      "The z range after padding is [0.0,2.64]\n"
     ]
    }
   ],
   "source": [
    "savetxt = True\n",
    "\n",
    "# fixed padding:\n",
    "npad = ((1, 1), (1, 1), (1, 1))\n",
    "\n",
    "# viz3D(lwc)\n",
    "\n",
    "# do the padding here\n",
    "tmpvol_lwc = np.pad(lwc, pad_width=npad, mode='constant', constant_values=0.0)\n",
    "tmpvol_reff = np.pad(reff, pad_width=npad, mode='constant', constant_values=0.0)\n",
    "\n",
    "# set cloud bottom to zero:\n",
    "zds = np.linspace(0, (max(zrange)+dz) - (min(zrange)-dz) ,tmpvol_lwc.shape[2]) \n",
    "print(\"The z range befor padding is [{},{}]\".format(min(zrange),max(zrange)))\n",
    "print(\"The z range after padding is [{},{}]\".format(zds.min(),zds.max()))\n",
    "if(savetxt):\n",
    "    file_name = \"tamar_cvpr_rico{}x{}x{}.txt\"\\\n",
    "        .format(tmpvol_lwc.shape[0],tmpvol_lwc.shape[1],tmpvol_lwc.shape[2])\n",
    "    # create the txt files:\n",
    "    comment_line = \"tamar cvpr\"\n",
    "    np.savetxt(file_name, X=np.array([tmpvol_lwc.shape]), fmt='%d', header=comment_line)\n",
    "    f = open(file_name, 'ab') \n",
    "\n",
    "\n",
    "\n",
    "\n",
    "    np.savetxt(f, X=np.concatenate((np.array([dx, dy]), zds)).reshape(1,-1), fmt='%2.3f')\n",
    "\n",
    "    nx, ny, nz = tmpvol_lwc.shape\n",
    "    lwc = tmpvol_lwc\n",
    "    reff = tmpvol_reff\n",
    "\n",
    "    y, x, z = np.meshgrid(range(ny), range(nx), range(nz))\n",
    "    data = np.vstack((x.ravel(), y.ravel(), z.ravel(), lwc.ravel(), reff.ravel())).T\n",
    "    np.savetxt(f, X=data, fmt='%d %d %d %.5f %.3f')        \n",
    "    f.close()  \n"
   ]
  },
  {
   "cell_type": "code",
   "execution_count": null,
   "metadata": {},
   "outputs": [],
   "source": []
  },
  {
   "cell_type": "code",
   "execution_count": 10,
   "metadata": {},
   "outputs": [
    {
     "name": "stdout",
     "output_type": "stream",
     "text": [
      "loading the 3D mat from: ../synthetic_cloud_fields/Tamars_data/cloud_field2.mat\n"
     ]
    },
    {
     "data": {
      "text/plain": [
       "array([[[0., 0., 0., ..., 0., 0., 0.],\n",
       "        [0., 0., 0., ..., 0., 0., 0.],\n",
       "        [0., 0., 0., ..., 0., 0., 0.],\n",
       "        ...,\n",
       "        [0., 0., 0., ..., 0., 0., 0.],\n",
       "        [0., 0., 0., ..., 0., 0., 0.],\n",
       "        [0., 0., 0., ..., 0., 0., 0.]],\n",
       "\n",
       "       [[0., 0., 0., ..., 0., 0., 0.],\n",
       "        [0., 0., 0., ..., 0., 0., 0.],\n",
       "        [0., 0., 0., ..., 0., 0., 0.],\n",
       "        ...,\n",
       "        [0., 0., 0., ..., 0., 0., 0.],\n",
       "        [0., 0., 0., ..., 0., 0., 0.],\n",
       "        [0., 0., 0., ..., 0., 0., 0.]],\n",
       "\n",
       "       [[0., 0., 0., ..., 0., 0., 0.],\n",
       "        [0., 0., 0., ..., 0., 0., 0.],\n",
       "        [0., 0., 0., ..., 0., 0., 0.],\n",
       "        ...,\n",
       "        [0., 0., 0., ..., 0., 0., 0.],\n",
       "        [0., 0., 0., ..., 0., 0., 0.],\n",
       "        [0., 0., 0., ..., 0., 0., 0.]],\n",
       "\n",
       "       ...,\n",
       "\n",
       "       [[0., 0., 0., ..., 0., 0., 0.],\n",
       "        [0., 0., 0., ..., 0., 0., 0.],\n",
       "        [0., 0., 0., ..., 0., 0., 0.],\n",
       "        ...,\n",
       "        [0., 0., 0., ..., 0., 0., 0.],\n",
       "        [0., 0., 0., ..., 0., 0., 0.],\n",
       "        [0., 0., 0., ..., 0., 0., 0.]],\n",
       "\n",
       "       [[0., 0., 0., ..., 0., 0., 0.],\n",
       "        [0., 0., 0., ..., 0., 0., 0.],\n",
       "        [0., 0., 0., ..., 0., 0., 0.],\n",
       "        ...,\n",
       "        [0., 0., 0., ..., 0., 0., 0.],\n",
       "        [0., 0., 0., ..., 0., 0., 0.],\n",
       "        [0., 0., 0., ..., 0., 0., 0.]],\n",
       "\n",
       "       [[0., 0., 0., ..., 0., 0., 0.],\n",
       "        [0., 0., 0., ..., 0., 0., 0.],\n",
       "        [0., 0., 0., ..., 0., 0., 0.],\n",
       "        ...,\n",
       "        [0., 0., 0., ..., 0., 0., 0.],\n",
       "        [0., 0., 0., ..., 0., 0., 0.],\n",
       "        [0., 0., 0., ..., 0., 0., 0.]]])"
      ]
     },
     "execution_count": 10,
     "metadata": {},
     "output_type": "execute_result"
    }
   ],
   "source": [
    "mat_path = \"../synthetic_cloud_fields/Tamars_data/cloud_field2.mat\"\n",
    "matrix3D = load_MAT_FILE(mat_path)\n",
    "matrix3D['beta_cf3']"
   ]
  },
  {
   "cell_type": "code",
   "execution_count": 29,
   "metadata": {},
   "outputs": [
    {
     "data": {
      "text/plain": [
       "[1, 2, 3, 4, 5, 6, 7]"
      ]
     },
     "execution_count": 29,
     "metadata": {},
     "output_type": "execute_result"
    }
   ],
   "source": [
    "f = [1,2,3,4,5,6,7]\n",
    "f[0:7] # in matlab it is f(1:7)"
   ]
  },
  {
   "cell_type": "code",
   "execution_count": 30,
   "metadata": {},
   "outputs": [
    {
     "data": {
      "text/plain": [
       "98"
      ]
     },
     "execution_count": 30,
     "metadata": {},
     "output_type": "execute_result"
    }
   ],
   "source": [
    "287-188-1"
   ]
  },
  {
   "cell_type": "code",
   "execution_count": null,
   "metadata": {},
   "outputs": [],
   "source": []
  }
 ],
 "metadata": {
  "kernelspec": {
   "display_name": "Python 3",
   "language": "python",
   "name": "python3"
  },
  "language_info": {
   "codemirror_mode": {
    "name": "ipython",
    "version": 3
   },
   "file_extension": ".py",
   "mimetype": "text/x-python",
   "name": "python",
   "nbconvert_exporter": "python",
   "pygments_lexer": "ipython3",
   "version": "3.7.4"
  },
  "toc": {
   "base_numbering": 1,
   "nav_menu": {},
   "number_sections": false,
   "sideBar": true,
   "skip_h1_title": false,
   "title_cell": "Table of Contents",
   "title_sidebar": "Contents",
   "toc_cell": false,
   "toc_position": {
    "height": "calc(100% - 180px)",
    "left": "10px",
    "top": "150px",
    "width": "229.333px"
   },
   "toc_section_display": true,
   "toc_window_display": true
  },
  "varInspector": {
   "cols": {
    "lenName": 16,
    "lenType": 16,
    "lenVar": 40
   },
   "kernels_config": {
    "python": {
     "delete_cmd_postfix": "",
     "delete_cmd_prefix": "del ",
     "library": "var_list.py",
     "varRefreshCmd": "print(var_dic_list())"
    },
    "r": {
     "delete_cmd_postfix": ") ",
     "delete_cmd_prefix": "rm(",
     "library": "var_list.r",
     "varRefreshCmd": "cat(var_dic_list()) "
    }
   },
   "position": {
    "height": "468px",
    "left": "1550px",
    "right": "20px",
    "top": "120px",
    "width": "350px"
   },
   "types_to_exclude": [
    "module",
    "function",
    "builtin_function_or_method",
    "instance",
    "_Feature"
   ],
   "window_display": true
  }
 },
 "nbformat": 4,
 "nbformat_minor": 2
}
