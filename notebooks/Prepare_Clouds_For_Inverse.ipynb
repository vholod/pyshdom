{
 "cells": [
  {
   "cell_type": "code",
   "execution_count": 1,
   "metadata": {},
   "outputs": [
    {
     "ename": "ModuleNotFoundError",
     "evalue": "No module named 'vtkIOExodusPython'",
     "output_type": "error",
     "traceback": [
      "\u001b[0;31m---------------------------------------------------------------------------\u001b[0m",
      "\u001b[0;31mImportError\u001b[0m                               Traceback (most recent call last)",
      "\u001b[0;32m~/anaconda3/envs/pyshdom/lib/python3.7/site-packages/vtkmodules/vtkIOExodus.py\u001b[0m in \u001b[0;36m<module>\u001b[0;34m\u001b[0m\n\u001b[1;32m      4\u001b[0m     \u001b[0;31m# use relative import for installed modules\u001b[0m\u001b[0;34m\u001b[0m\u001b[0;34m\u001b[0m\u001b[0;34m\u001b[0m\u001b[0m\n\u001b[0;32m----> 5\u001b[0;31m     \u001b[0;32mfrom\u001b[0m \u001b[0;34m.\u001b[0m\u001b[0mvtkIOExodusPython\u001b[0m \u001b[0;32mimport\u001b[0m \u001b[0;34m*\u001b[0m\u001b[0;34m\u001b[0m\u001b[0;34m\u001b[0m\u001b[0m\n\u001b[0m\u001b[1;32m      6\u001b[0m \u001b[0;32mexcept\u001b[0m \u001b[0mImportError\u001b[0m\u001b[0;34m:\u001b[0m\u001b[0;34m\u001b[0m\u001b[0;34m\u001b[0m\u001b[0m\n",
      "\u001b[0;31mImportError\u001b[0m: libnetcdf.so.13: cannot open shared object file: No such file or directory",
      "\nDuring handling of the above exception, another exception occurred:\n",
      "\u001b[0;31mModuleNotFoundError\u001b[0m                       Traceback (most recent call last)",
      "\u001b[0;32m<ipython-input-1-0f591ce42eba>\u001b[0m in \u001b[0;36m<module>\u001b[0;34m\u001b[0m\n\u001b[1;32m     11\u001b[0m \u001b[0;32mimport\u001b[0m \u001b[0mscipy\u001b[0m\u001b[0;34m\u001b[0m\u001b[0;34m\u001b[0m\u001b[0m\n\u001b[1;32m     12\u001b[0m \u001b[0;32mimport\u001b[0m \u001b[0mmath\u001b[0m\u001b[0;34m\u001b[0m\u001b[0;34m\u001b[0m\u001b[0m\n\u001b[0;32m---> 13\u001b[0;31m \u001b[0;32mfrom\u001b[0m \u001b[0mmayavi\u001b[0m \u001b[0;32mimport\u001b[0m \u001b[0mmlab\u001b[0m\u001b[0;34m\u001b[0m\u001b[0;34m\u001b[0m\u001b[0m\n\u001b[0m\u001b[1;32m     14\u001b[0m \u001b[0;32mimport\u001b[0m \u001b[0mshdom\u001b[0m\u001b[0;34m\u001b[0m\u001b[0;34m\u001b[0m\u001b[0m\n\u001b[1;32m     15\u001b[0m \u001b[0;34m\u001b[0m\u001b[0m\n",
      "\u001b[0;32m~/anaconda3/envs/pyshdom/lib/python3.7/site-packages/mayavi/mlab.py\u001b[0m in \u001b[0;36m<module>\u001b[0;34m\u001b[0m\n\u001b[1;32m     14\u001b[0m \u001b[0;31m# Mayavi imports\u001b[0m\u001b[0;34m\u001b[0m\u001b[0;34m\u001b[0m\u001b[0;34m\u001b[0m\u001b[0m\n\u001b[1;32m     15\u001b[0m \u001b[0;32mfrom\u001b[0m \u001b[0mmayavi\u001b[0m\u001b[0;34m.\u001b[0m\u001b[0mcore\u001b[0m\u001b[0;34m.\u001b[0m\u001b[0mcommon\u001b[0m \u001b[0;32mimport\u001b[0m \u001b[0mprocess_ui_events\u001b[0m\u001b[0;34m\u001b[0m\u001b[0;34m\u001b[0m\u001b[0m\n\u001b[0;32m---> 16\u001b[0;31m \u001b[0;32mfrom\u001b[0m \u001b[0mmayavi\u001b[0m\u001b[0;34m.\u001b[0m\u001b[0mtools\u001b[0m\u001b[0;34m.\u001b[0m\u001b[0mcamera\u001b[0m \u001b[0;32mimport\u001b[0m \u001b[0mview\u001b[0m\u001b[0;34m,\u001b[0m \u001b[0mroll\u001b[0m\u001b[0;34m,\u001b[0m \u001b[0myaw\u001b[0m\u001b[0;34m,\u001b[0m \u001b[0mpitch\u001b[0m\u001b[0;34m,\u001b[0m \u001b[0mmove\u001b[0m\u001b[0;34m\u001b[0m\u001b[0;34m\u001b[0m\u001b[0m\n\u001b[0m\u001b[1;32m     17\u001b[0m \u001b[0;32mfrom\u001b[0m \u001b[0mmayavi\u001b[0m\u001b[0;34m.\u001b[0m\u001b[0mtools\u001b[0m\u001b[0;34m.\u001b[0m\u001b[0mfigure\u001b[0m \u001b[0;32mimport\u001b[0m \u001b[0mfigure\u001b[0m\u001b[0;34m,\u001b[0m \u001b[0mclf\u001b[0m\u001b[0;34m,\u001b[0m \u001b[0mgcf\u001b[0m\u001b[0;34m,\u001b[0m \u001b[0msavefig\u001b[0m\u001b[0;34m,\u001b[0m\u001b[0;31m \u001b[0m\u001b[0;31m\\\u001b[0m\u001b[0;34m\u001b[0m\u001b[0;34m\u001b[0m\u001b[0m\n\u001b[1;32m     18\u001b[0m     \u001b[0mdraw\u001b[0m\u001b[0;34m,\u001b[0m \u001b[0msync_camera\u001b[0m\u001b[0;34m,\u001b[0m \u001b[0mclose\u001b[0m\u001b[0;34m,\u001b[0m \u001b[0mscreenshot\u001b[0m\u001b[0;34m\u001b[0m\u001b[0;34m\u001b[0m\u001b[0m\n",
      "\u001b[0;32m~/anaconda3/envs/pyshdom/lib/python3.7/site-packages/mayavi/tools/camera.py\u001b[0m in \u001b[0;36m<module>\u001b[0;34m\u001b[0m\n\u001b[1;32m     22\u001b[0m \u001b[0;31m# We can't use gcf, as it creates a circular import in camera management\u001b[0m\u001b[0;34m\u001b[0m\u001b[0;34m\u001b[0m\u001b[0;34m\u001b[0m\u001b[0m\n\u001b[1;32m     23\u001b[0m \u001b[0;31m# routines.\u001b[0m\u001b[0;34m\u001b[0m\u001b[0;34m\u001b[0m\u001b[0;34m\u001b[0m\u001b[0m\n\u001b[0;32m---> 24\u001b[0;31m \u001b[0;32mfrom\u001b[0m \u001b[0;34m.\u001b[0m\u001b[0mengine_manager\u001b[0m \u001b[0;32mimport\u001b[0m \u001b[0mget_engine\u001b[0m\u001b[0;34m\u001b[0m\u001b[0;34m\u001b[0m\u001b[0m\n\u001b[0m\u001b[1;32m     25\u001b[0m \u001b[0;34m\u001b[0m\u001b[0m\n\u001b[1;32m     26\u001b[0m \u001b[0;34m\u001b[0m\u001b[0m\n",
      "\u001b[0;32m~/anaconda3/envs/pyshdom/lib/python3.7/site-packages/mayavi/tools/engine_manager.py\u001b[0m in \u001b[0;36m<module>\u001b[0;34m\u001b[0m\n\u001b[1;32m     12\u001b[0m \u001b[0;32mfrom\u001b[0m \u001b[0mmayavi\u001b[0m\u001b[0;34m.\u001b[0m\u001b[0mpreferences\u001b[0m\u001b[0;34m.\u001b[0m\u001b[0mapi\u001b[0m \u001b[0;32mimport\u001b[0m \u001b[0mpreference_manager\u001b[0m\u001b[0;34m\u001b[0m\u001b[0;34m\u001b[0m\u001b[0m\n\u001b[1;32m     13\u001b[0m \u001b[0;32mfrom\u001b[0m \u001b[0mmayavi\u001b[0m\u001b[0;34m.\u001b[0m\u001b[0mcore\u001b[0m\u001b[0;34m.\u001b[0m\u001b[0mregistry\u001b[0m \u001b[0;32mimport\u001b[0m \u001b[0mregistry\u001b[0m\u001b[0;34m\u001b[0m\u001b[0;34m\u001b[0m\u001b[0m\n\u001b[0;32m---> 14\u001b[0;31m \u001b[0;32mfrom\u001b[0m \u001b[0mmayavi\u001b[0m\u001b[0;34m.\u001b[0m\u001b[0mcore\u001b[0m\u001b[0;34m.\u001b[0m\u001b[0mengine\u001b[0m \u001b[0;32mimport\u001b[0m \u001b[0mEngine\u001b[0m\u001b[0;34m\u001b[0m\u001b[0;34m\u001b[0m\u001b[0m\n\u001b[0m\u001b[1;32m     15\u001b[0m \u001b[0;32mfrom\u001b[0m \u001b[0mmayavi\u001b[0m\u001b[0;34m.\u001b[0m\u001b[0mcore\u001b[0m\u001b[0;34m.\u001b[0m\u001b[0moff_screen_engine\u001b[0m \u001b[0;32mimport\u001b[0m \u001b[0mOffScreenEngine\u001b[0m\u001b[0;34m\u001b[0m\u001b[0;34m\u001b[0m\u001b[0m\n\u001b[1;32m     16\u001b[0m \u001b[0;32mfrom\u001b[0m \u001b[0mmayavi\u001b[0m\u001b[0;34m.\u001b[0m\u001b[0mcore\u001b[0m\u001b[0;34m.\u001b[0m\u001b[0mnull_engine\u001b[0m \u001b[0;32mimport\u001b[0m \u001b[0mNullEngine\u001b[0m\u001b[0;34m\u001b[0m\u001b[0;34m\u001b[0m\u001b[0m\n",
      "\u001b[0;32m~/anaconda3/envs/pyshdom/lib/python3.7/site-packages/mayavi/core/engine.py\u001b[0m in \u001b[0;36m<module>\u001b[0;34m\u001b[0m\n\u001b[1;32m     10\u001b[0m \u001b[0;31m# VTK is used to just shut off the warnings temporarily.\u001b[0m\u001b[0;34m\u001b[0m\u001b[0;34m\u001b[0m\u001b[0;34m\u001b[0m\u001b[0m\n\u001b[1;32m     11\u001b[0m \u001b[0;32mtry\u001b[0m\u001b[0;34m:\u001b[0m\u001b[0;34m\u001b[0m\u001b[0;34m\u001b[0m\u001b[0m\n\u001b[0;32m---> 12\u001b[0;31m     \u001b[0;32mimport\u001b[0m \u001b[0mvtk\u001b[0m\u001b[0;34m\u001b[0m\u001b[0;34m\u001b[0m\u001b[0m\n\u001b[0m\u001b[1;32m     13\u001b[0m \u001b[0;32mexcept\u001b[0m \u001b[0mImportError\u001b[0m \u001b[0;32mas\u001b[0m \u001b[0mm\u001b[0m\u001b[0;34m:\u001b[0m\u001b[0;34m\u001b[0m\u001b[0;34m\u001b[0m\u001b[0m\n\u001b[1;32m     14\u001b[0m     m.args = ('%s\\n%s\\nDo you have vtk and its Python bindings installed properly?' %\n",
      "\u001b[0;32m~/anaconda3/envs/pyshdom/lib/python3.7/site-packages/vtk.py\u001b[0m in \u001b[0;36m<module>\u001b[0;34m\u001b[0m\n\u001b[1;32m     30\u001b[0m     \u001b[0mall_spec\u001b[0m \u001b[0;34m=\u001b[0m \u001b[0mimportlib\u001b[0m\u001b[0;34m.\u001b[0m\u001b[0mutil\u001b[0m\u001b[0;34m.\u001b[0m\u001b[0mfind_spec\u001b[0m\u001b[0;34m(\u001b[0m\u001b[0;34m'vtkmodules.all'\u001b[0m\u001b[0;34m)\u001b[0m\u001b[0;34m\u001b[0m\u001b[0;34m\u001b[0m\u001b[0m\n\u001b[1;32m     31\u001b[0m     \u001b[0mall_m\u001b[0m \u001b[0;34m=\u001b[0m \u001b[0mimportlib\u001b[0m\u001b[0;34m.\u001b[0m\u001b[0mutil\u001b[0m\u001b[0;34m.\u001b[0m\u001b[0mmodule_from_spec\u001b[0m\u001b[0;34m(\u001b[0m\u001b[0mall_spec\u001b[0m\u001b[0;34m)\u001b[0m\u001b[0;34m\u001b[0m\u001b[0;34m\u001b[0m\u001b[0m\n\u001b[0;32m---> 32\u001b[0;31m     \u001b[0mall_spec\u001b[0m\u001b[0;34m.\u001b[0m\u001b[0mloader\u001b[0m\u001b[0;34m.\u001b[0m\u001b[0mexec_module\u001b[0m\u001b[0;34m(\u001b[0m\u001b[0mall_m\u001b[0m\u001b[0;34m)\u001b[0m\u001b[0;34m\u001b[0m\u001b[0;34m\u001b[0m\u001b[0m\n\u001b[0m\u001b[1;32m     33\u001b[0m \u001b[0;34m\u001b[0m\u001b[0m\n\u001b[1;32m     34\u001b[0m     \u001b[0;31m# import vtkmodules\u001b[0m\u001b[0;34m\u001b[0m\u001b[0;34m\u001b[0m\u001b[0;34m\u001b[0m\u001b[0m\n",
      "\u001b[0;32m~/anaconda3/envs/pyshdom/lib/python3.7/site-packages/vtkmodules/all.py\u001b[0m in \u001b[0;36m<module>\u001b[0;34m\u001b[0m\n\u001b[1;32m     68\u001b[0m \u001b[0;32mfrom\u001b[0m \u001b[0;34m.\u001b[0m\u001b[0mvtkIOCityGML\u001b[0m \u001b[0;32mimport\u001b[0m \u001b[0;34m*\u001b[0m\u001b[0;34m\u001b[0m\u001b[0;34m\u001b[0m\u001b[0m\n\u001b[1;32m     69\u001b[0m \u001b[0;32mfrom\u001b[0m \u001b[0;34m.\u001b[0m\u001b[0mvtkIOEnSight\u001b[0m \u001b[0;32mimport\u001b[0m \u001b[0;34m*\u001b[0m\u001b[0;34m\u001b[0m\u001b[0;34m\u001b[0m\u001b[0m\n\u001b[0;32m---> 70\u001b[0;31m \u001b[0;32mfrom\u001b[0m \u001b[0;34m.\u001b[0m\u001b[0mvtkIOExodus\u001b[0m \u001b[0;32mimport\u001b[0m \u001b[0;34m*\u001b[0m\u001b[0;34m\u001b[0m\u001b[0;34m\u001b[0m\u001b[0m\n\u001b[0m\u001b[1;32m     71\u001b[0m \u001b[0;32mfrom\u001b[0m \u001b[0;34m.\u001b[0m\u001b[0mvtkRenderingGL2PSOpenGL2\u001b[0m \u001b[0;32mimport\u001b[0m \u001b[0;34m*\u001b[0m\u001b[0;34m\u001b[0m\u001b[0;34m\u001b[0m\u001b[0m\n\u001b[1;32m     72\u001b[0m \u001b[0;32mfrom\u001b[0m \u001b[0;34m.\u001b[0m\u001b[0mvtkIOExport\u001b[0m \u001b[0;32mimport\u001b[0m \u001b[0;34m*\u001b[0m\u001b[0;34m\u001b[0m\u001b[0;34m\u001b[0m\u001b[0m\n",
      "\u001b[0;32m~/anaconda3/envs/pyshdom/lib/python3.7/site-packages/vtkmodules/vtkIOExodus.py\u001b[0m in \u001b[0;36m<module>\u001b[0;34m\u001b[0m\n\u001b[1;32m      7\u001b[0m     \u001b[0;31m# during build and testing, the modules will be elsewhere,\u001b[0m\u001b[0;34m\u001b[0m\u001b[0;34m\u001b[0m\u001b[0;34m\u001b[0m\u001b[0m\n\u001b[1;32m      8\u001b[0m     \u001b[0;31m# e.g. in lib directory or Release/Debug config directories\u001b[0m\u001b[0;34m\u001b[0m\u001b[0;34m\u001b[0m\u001b[0;34m\u001b[0m\u001b[0m\n\u001b[0;32m----> 9\u001b[0;31m     \u001b[0;32mfrom\u001b[0m \u001b[0mvtkIOExodusPython\u001b[0m \u001b[0;32mimport\u001b[0m \u001b[0;34m*\u001b[0m\u001b[0;34m\u001b[0m\u001b[0;34m\u001b[0m\u001b[0m\n\u001b[0m",
      "\u001b[0;31mModuleNotFoundError\u001b[0m: No module named 'vtkIOExodusPython'"
     ]
    }
   ],
   "source": [
    "import datetime\n",
    "import numpy as np\n",
    "import matplotlib.pyplot as plt\n",
    "import matplotlib.ticker as mtick\n",
    "import matplotlib.patches as mpatches\n",
    "import glob\n",
    "import json\n",
    "import os\n",
    "import pandas as pd\n",
    "import pickle\n",
    "import scipy\n",
    "import math \n",
    "from mayavi import mlab\n",
    "import shdom\n",
    "\n",
    "from scipy.interpolate import interp1d\n",
    "import scipy.io as sio\n",
    "from scipy.optimize import curve_fit\n",
    "\n",
    "rc = {\n",
    "    \"figure.figsize\": (12,6),\n",
    "    \"xtick.major.size\": 12.0,\n",
    "    \"xtick.minor.size\": 8.0,\n",
    "    \"ytick.major.size\": 12.0,\n",
    "    \"ytick.minor.size\": 8.0,\n",
    "    \"axes.linewidth\": 1.75,\n",
    "    \"xtick.color\": '0',\n",
    "    \"ytick.color\": '0',\n",
    "    \"axes.labelcolor\": '0'\n",
    "}\n",
    "\n",
    "\n",
    "%matplotlib inline\n",
    "\n"
   ]
  },
  {
   "cell_type": "markdown",
   "metadata": {},
   "source": [
    "# Define functions"
   ]
  },
  {
   "cell_type": "code",
   "execution_count": 34,
   "metadata": {},
   "outputs": [],
   "source": [
    "# def gamma_dist(d,alpha,b,Constant = 1):\n",
    "#     r = 0.5*d\n",
    "#     n_r = Constant*(r**alpha)*np.exp(-1*b*r)\n",
    "#     return n_r\n",
    " \n",
    "def gamma_distribution(r,N,re,ve):\n",
    "    C = ((re*ve)**(2-(1/ve)))/math.gamma((1/ve)-2)\n",
    "    t = N*C*(r**((1/ve)-3))\n",
    "    n = t*np.exp(-r/(re*ve))\n",
    "    return n\n",
    " \n",
    "def old_gamma(r,alpha,b,N):\n",
    "    a = N/(math.gamma(alpha+1)/(b**(alpha+1))) \n",
    "    n = a*(r**alpha)*np.exp(-b*r)\n",
    "    return n\n",
    "\n",
    "def load_MAT_FILE(mat_path):\n",
    "    if os.path.exists(mat_path):\n",
    "        print(\"loading the 3D mat from: {}\".format(mat_path))\n",
    "    else:\n",
    "        print(\"{} not exists\".format(mat_path))    \n",
    "    \n",
    "    matrix3D = sio.loadmat(mat_path)\n",
    "    return matrix3D\n",
    "\n",
    "def calcHG(mu, g):\n",
    "    \"\"\"Calculate the Henyey-Greenstein function for each voxel.\n",
    "    The HG function is taken from: http://www.astro.umd.edu/~jph/HG_note.pdf\n",
    "    \"\"\"\n",
    "\n",
    "    HG = (1 - g**2) / (1 + g**2 - 2*g*mu)**(3/2) / (4*np.pi)\n",
    "    \n",
    "    return HG\n",
    "\n",
    "def viz3D(cloud_field, res3d = (1,1,1),title='volume'):\n",
    "    fig = mlab.figure(size=(1280, 960))\n",
    "    nx,ny,nz = cloud_field.shape\n",
    "    dx, dy, dz = res3d\n",
    "    \n",
    "    xgrid = np.linspace(0, nx - 1,nx)\n",
    "    ygrid = np.linspace(0, ny - 1,ny)\n",
    "    zgrid = np.linspace(0, nz - 1,nz) \n",
    "    X, Y, Z = np.meshgrid(xgrid, ygrid, zgrid, indexing='ij')\n",
    "    figh = mlab.gcf()\n",
    "    src = mlab.pipeline.scalar_field(X, Y, Z, cloud_field)\n",
    "    src.spacing = [dx, dy, dz]\n",
    "    src.update_image_data = True \n",
    "    \n",
    "    isosurface = mlab.pipeline.iso_surface(src, contours=[0.1*cloud_field.max(),\\\n",
    "                                                          0.2*cloud_field.max(),\\\n",
    "                                                          0.3*cloud_field.max(),\\\n",
    "                                                          0.4*cloud_field.max(),\\\n",
    "                                                          0.5*cloud_field.max(),\\\n",
    "                                                          0.6*cloud_field.max(),\\\n",
    "                                                          0.7*cloud_field.max(),\\\n",
    "                                                          0.8*cloud_field.max(),\\\n",
    "                                                          0.9*cloud_field.max(),\\\n",
    "                                                          ],opacity=0.9)\n",
    "    mlab.pipeline.volume(isosurface, figure=figh)\n",
    "    color_bar = mlab.colorbar(title=title, orientation='vertical', nb_labels=5)\n",
    "\n",
    "    mlab.outline(figure=figh,color = (1, 1, 1))  # box around data axes\n",
    "    mlab.orientation_axes(figure=figh)\n",
    "    mlab.axes(figure=figh, xlabel=\"x (km)\", ylabel=\"y (km)\", zlabel=\"z (km)\")  \n",
    "    \n",
    "    v = mlab.view(elevation=80,azimuth = 10)\n",
    "    v = mlab.view()\n",
    "    print(v)\n",
    "    mlab.show()    \n",
    "      \n",
    "    "
   ]
  },
  {
   "cell_type": "markdown",
   "metadata": {},
   "source": [
    "# Cammon parameters"
   ]
  },
  {
   "cell_type": "code",
   "execution_count": 3,
   "metadata": {},
   "outputs": [],
   "source": [
    "wavelengths = [0.672]# microns"
   ]
  },
  {
   "cell_type": "markdown",
   "metadata": {},
   "source": [
    "# load 3d data for Mie calculations"
   ]
  },
  {
   "cell_type": "code",
   "execution_count": 78,
   "metadata": {},
   "outputs": [
    {
     "name": "stdout",
     "output_type": "stream",
     "text": [
      "loading the 3D mat from: ../WIZ_Clouds/10m_LES_Matrices/BOMEX_1CLD_512x512x320_500CCN_10m_7dT0.1_0000004200_pdfVARS2.mat\n"
     ]
    },
    {
     "name": "stderr",
     "output_type": "stream",
     "text": [
      "/home/vhold/anaconda3/envs/pyshdom/lib/python3.7/site-packages/scipy/io/matlab/mio5.py:252: ComplexWarning: Casting complex values to real discards the imaginary part\n",
      "  return self._matrix_reader.array_from_header(header, process)\n"
     ]
    },
    {
     "name": "stdout",
     "output_type": "stream",
     "text": [
      "content information:\n",
      "CldMtrx shape is: (101, 101, 320)\n",
      "alpha shape is: (101, 101, 320)\n",
      "B shape is: (101, 101, 320)\n",
      "LWC shape is: (101, 101, 320)\n",
      "RHO shape is: (101, 101, 320)\n",
      "RE shape is: (101, 101, 320)\n",
      "C shape is: (101, 101, 320)\n",
      "fails shape is: (101, 101, 320)\n",
      "rd shape is: (33, 1)\n",
      "BinMPhdata shape is: (101, 101, 320, 33)\n",
      "N shape is: (101, 101, 320)\n",
      "total mediume voxels: 3264320\n",
      "\n",
      "========================================================\n",
      "\n",
      "In 60559.0 voxels there are no full fitted parameters.\n",
      "There are 385189 voxels with cloud content\n",
      "In 324630.0 voxels there is fitted alpha parameter\n",
      "In 324630.0 voxels there is fitted B parameter\n",
      "In 324630.0 voxels there is fitted C parameter\n"
     ]
    }
   ],
   "source": [
    "# mat_path = \"BOMEX_128x128x100_500CCN_0000106200_pdfVARS.mat\"\n",
    "# mat_path = \"../WIZ_Clouds/erc_proposal/BOMEX_128x128x100_50CCN_50m_0000008400_pdfVARS.mat\" # The resolution is of 50m horizontal and 40m vertical, domain size is 6.4x6.4x4 km\n",
    "\n",
    "mat_path = \"../WIZ_Clouds/10m_LES_Matrices/BOMEX_1CLD_512x512x320_500CCN_10m_7dT0.1_0000004200_pdfVARS2.mat\" \n",
    "# In BOMEX_1CLD_512x512x320, The horizontal resolution is always 10m and the vertical is mostly 10m (after 3000m it goes to 50m  so the domain height is 4 km.\n",
    "\n",
    "\n",
    "matrix3D = load_MAT_FILE(mat_path)\n",
    "\n",
    "#matrix3D.keys() = dict_keys(['B', 'C', '__version__', '__globals__', 'fails', 'DominPDFcoeff', '__header__', 'CldMtrx', \n",
    "#'alpha'])\n",
    "CldMtrx = matrix3D['CldMtrx']# a binary cloud matrix that points out where there are cloud, 1- cloude, 0 - no cloud voxel\n",
    "alpha = matrix3D['alpha']\n",
    "B = matrix3D['B']\n",
    "C = matrix3D['C']# modeled droplet concentration, units are [cm^-3]\n",
    "fails = matrix3D['fails']\n",
    "\n",
    "\"\"\"new parameters 30/7/2018, where:\n",
    "matrix3D.keys() = dict_keys(['__header__', '__version__', '__globals__', 'B', \n",
    "           'BinMPhdata', 'C', 'CldMtrx', 'DominPDFcoeff', 'LWC', 'N', 'RE', 'alpha', 'fails', 'p', 'rd', 'rho'])\n",
    "           rho- levels' density (kg/m^3)\n",
    "\"\"\"\n",
    "\n",
    "rd = matrix3D['rd'] #rd - the bins vector (micron)\n",
    "BinMPhdata = matrix3D['BinMPhdata']#a 4D matrix of the droplet size bins (first 3 are spatial dimensions and the 4th is the 33 size bins) [1/um].\n",
    "N = matrix3D['N']#number concentration of droplets per voxel (integral of BinMphdata over the 33 bins)  (cm^-3)\n",
    "alfa =  matrix3D['alpha']\n",
    "B =  matrix3D['B']\n",
    "C =  matrix3D['C']\n",
    "LWC = matrix3D['LWC']#liquid water mixing ratio,  this is only small droplets (no rain or drizzle) (g/kg)\n",
    "RE = matrix3D['RE']#effective radius (um)\n",
    "RHO = matrix3D['rho']#density kg/m^3  - you can use this to convert mixing ratio (LWC [g/kg]]) to liquid water density [g/m^-3]]\n",
    "\n",
    "\n",
    "\n",
    "print(\"content information:\")\n",
    "print(\"CldMtrx shape is: {}\".format(CldMtrx.shape))\n",
    "print(\"alpha shape is: {}\".format(alpha.shape))\n",
    "print(\"B shape is: {}\".format(B.shape))\n",
    "print(\"LWC shape is: {}\".format(LWC.shape))\n",
    "print(\"RHO shape is: {}\".format(RHO.shape))\n",
    "print(\"RE shape is: {}\".format(RE.shape))\n",
    "print(\"C shape is: {}\".format(C.shape))\n",
    "print(\"fails shape is: {}\".format(fails.shape))\n",
    "print(\"rd shape is: {}\".format(rd.shape))\n",
    "print(\"BinMPhdata shape is: {}\".format(BinMPhdata.shape))\n",
    "print(\"N shape is: {}\".format(N.shape))\n",
    "print(\"total mediume voxels: {}\\n\".format(CldMtrx.size))\n",
    "print(\"========================================================\\n\")\n",
    "M = np.ones(alpha.shape)\n",
    "print(\"In {} voxels there are no full fitted parameters.\".format(fails.flatten().sum()))\n",
    "print(\"There are {} voxels with cloud content\".format(CldMtrx.flatten().sum()))\n",
    "print(\"In {} voxels there is fitted alpha parameter\".format(M.sum() - M[np.isnan(alpha)].flatten().sum()))\n",
    "print(\"In {} voxels there is fitted B parameter\".format(M.sum() - M[np.isnan(B)].flatten().sum()))\n",
    "print(\"In {} voxels there is fitted C parameter\".format(M.sum() - M[np.isnan(C)].flatten().sum()))\n",
    "\n",
    "alpha_not_with_nan = np.nan_to_num(alpha)\n",
    "B_not_with_nan = np.nan_to_num(B)\n",
    "C_not_with_nan = np.nan_to_num(C)"
   ]
  },
  {
   "cell_type": "markdown",
   "metadata": {},
   "source": [
    "# Work on one voxel to test the units and some operations"
   ]
  },
  {
   "cell_type": "code",
   "execution_count": 31,
   "metadata": {},
   "outputs": [
    {
     "name": "stdout",
     "output_type": "stream",
     "text": [
      "Eshkols alpha = 3.5340161323547363, reff = 13.718209949125777, veff = 0.1530452297245276\n",
      "my gamma reff = 13.720402959664682\n",
      "my gamma veff = 0.1529343885216553\n",
      "shdom reff = 13.701434561561557\n",
      "Eshkols N = 7.62060022354126, tested (sanity check) N = 7.620600109226015\n"
     ]
    },
    {
     "data": {
      "text/plain": [
       "<matplotlib.legend.Legend at 0x7fcbcc508b50>"
      ]
     },
     "execution_count": 31,
     "metadata": {},
     "output_type": "execute_result"
    },
    {
     "data": {
      "image/png": "[encoded data removed]",
      "text/plain": [
       "<Figure size 576x576 with 1 Axes>"
      ]
     },
     "metadata": {
      "needs_background": "light"
     },
     "output_type": "display_data"
    }
   ],
   "source": [
    "# from plt.plot(rd) - you can see that the bins are not linear\n",
    "diameters = 2*np.squeeze(rd) # (microns)\n",
    "min_diff = np.diff(np.squeeze(rd)).min()\n",
    "interp_bins = int(np.ceil((rd.max() - rd.min())/min_diff))\n",
    "r = np.linspace(rd.min(), rd.max(), interp_bins)\n",
    "\n",
    "indxs = np.argwhere(CldMtrx > 0)# cloudy voxel indexes\n",
    "# here, take for example one voxel with fitted parameters\n",
    "example_vox_indx = indxs[14166]\n",
    "# maximum radius is here 14166\n",
    "# minimum radius is here 4008\n",
    "\n",
    "DOPC = BinMPhdata[example_vox_indx[0],example_vox_indx[1],example_vox_indx[2],:] # distribution of droplets consintration \n",
    "NC = N[example_vox_indx[0],example_vox_indx[1],example_vox_indx[2]] # number concentration of droplets\n",
    "DOPC_interpulated = interp1d(np.squeeze(rd),DOPC)(r)\n",
    "ALPHA = alfa[example_vox_indx[0],example_vox_indx[1],example_vox_indx[2]]\n",
    "b = B[example_vox_indx[0],example_vox_indx[1],example_vox_indx[2]]\n",
    "c = C[example_vox_indx[0],example_vox_indx[1],example_vox_indx[2]]\n",
    "reff = RE[example_vox_indx[0],example_vox_indx[1],example_vox_indx[2]]\n",
    "veff = 1/(ALPHA+3)# accorging to shdom documentation.\n",
    "print(\"Eshkols alpha = {}, reff = {}, veff = {}\".format(ALPHA,reff,veff))\n",
    "\n",
    "# maybe I need to convert NC units, currently it is cm^-1\n",
    "test_gamma = gamma_distribution(r,NC,reff,veff)  \n",
    "F = fails[example_vox_indx[0],example_vox_indx[1],example_vox_indx[2]]\n",
    "\n",
    "#---------------------------------------------\n",
    "re_test = np.trapz(test_gamma*r**3,r, axis=0)/np.trapz(test_gamma*r**2,r, axis=0)\n",
    "ve_test = np.trapz(((r-reff)**2)*(r**2)*test_gamma,r, axis=0)/(reff**2*np.trapz(test_gamma*r**2,r, axis=0))\n",
    "print(\"my gamma reff = {}\".format(re_test))\n",
    "print(\"my gamma veff = {}\".format(ve_test))\n",
    "\"\"\"\n",
    "parameters for the gamma pdf: the domain average in a vector (alpha,B,C), a matrix of the 3D distribution of each \n",
    "gamma parameter separately, a binary cloud matrix that points out where there are cloud (CldMtrx) and a binary matrix \n",
    "that has 1 values where I couldn't fit a gamma distribution (fails).\n",
    "Where alpha=alpha, B=b and C=a*GAMMA(alpha+1)/b^(alpha+1) which is the droplets number concentration.\n",
    "--------------------------------shdom documentation----------------------------------------------\n",
    "The gamma distribution of cloud droplet sizes is n(r) = a r^alpha exp(-b*r) where r is the droplet radius, and a, b, \n",
    "alpha specify the gamma distribution. The number concentration of droplets is N = a Gamma(alpha+1)/ b^(alpha+1), \n",
    "where Gamma is the gamma function. The effective radius of the distribution is r_eff = (alpha+3)/b, while the \n",
    "effective variance is v_eff = 1/(alpha+3). A typical value for water clouds is v_eff=0.1 or alpha=7. For ice clouds a \n",
    "typical value is alpha=1 or 2. An exponential distribution is obtained with alpha=0. \n",
    "A large value of alpha gives close to a monodisperse distribution.\n",
    "\"\"\"\n",
    "\n",
    "    \n",
    "f, ax = plt.subplots(1, 1, figsize=(8, 8))\n",
    "plt.plot(r,DOPC_interpulated,label='Original')\n",
    "plt.xlim([0 ,150])\n",
    "plt.xlabel('radius [um]', fontsize=16)\n",
    "plt.ylabel('distribution dn(r)/dr [1/um]', fontsize=16)\n",
    "plt.title('one voxel distribution example')\n",
    "\n",
    "# gamma distribution test:\n",
    "plt.plot(r,test_gamma,linewidth=2.0,label='Gamma',linestyle = '--')\n",
    "LWC = 0.0\n",
    "for ri,n in zip(r,test_gamma):\n",
    "    LWC = LWC + (1.0E-6*1*n*(4*math.pi/3)*ri**3)\n",
    "    \n",
    "# gamma distribution of pyshdom:\n",
    "mie_mono = shdom.MieMonodisperse(particle_type='Water')\n",
    "mie_mono.set_wavelength_integration(wavelength_band=(wavelengths[0], wavelengths[0]))   \n",
    "mie_mono.set_radius_integration(minimum_effective_radius=rd.min(), max_integration_radius=250)\n",
    "# mie_mono.compute_table()\n",
    "\n",
    "size_distribution = shdom.SizeDistribution(type='gamma')\n",
    "# size_distribution.set_parameters(reff=np.array([reff,reff+0.01]), veff=np.array([veff,veff+0.0001]))\n",
    "size_distribution.set_parameters(reff=np.linspace(1, 81.0, 80), veff=np.linspace(0.01, 0.5, 50))\n",
    "size_distribution.compute_nd(radii=r, particle_density=mie_mono.pardens)\n",
    "#\n",
    "size_dist = size_distribution.get_nd(reff=reff, veff=veff)\n",
    "\n",
    "#---------------------------------------------\n",
    "re_test = np.trapz(size_dist*r**3,r, axis=0)/np.trapz(size_dist*r**2,r, axis=0)\n",
    "print(\"shdom reff = {}\".format(re_test))\n",
    "\n",
    "plt.plot(r,LWC*size_dist,label='shdom v_eff= {}'.format(veff),linestyle = '--')\n",
    "# CO = np.nanmean(test_gamma[test_gamma>0][:100]/size_dist[size_dist>0][:100])\n",
    "# plt.plot(r[test_gamma>0][:100],test_gamma[test_gamma>0][:100]/size_dist[size_dist>0][:100],label='ratio',linestyle = '--')\n",
    "# ------------------------------------------------------------------------------------------------------------\n",
    "\n",
    "# sanity check on the consintration\n",
    "# NC_test = np.trapz(DOPC_interpulated,r, axis=0)\n",
    "NC_test = np.trapz(DOPC,np.squeeze(rd), axis=0)\n",
    "print(\"Eshkols N = {}, tested (sanity check) N = {}\".format(NC,NC_test))\n",
    "\n",
    "ax.xaxis.set_tick_params(labelsize=16)\n",
    "ax.yaxis.set_tick_params(labelsize=16)\n",
    "plt.grid(True)\n",
    "plt.legend()"
   ]
  },
  {
   "cell_type": "code",
   "execution_count": null,
   "metadata": {},
   "outputs": [],
   "source": []
  },
  {
   "cell_type": "markdown",
   "metadata": {},
   "source": [
    "# LOAD DATA FROM ESHKOL APRIL 2020"
   ]
  },
  {
   "cell_type": "code",
   "execution_count": null,
   "metadata": {},
   "outputs": [
    {
     "name": "stderr",
     "output_type": "stream",
     "text": [
      "\n",
      "\n",
      "\n",
      "  1%|          | 4017/448714 [00:25<11:08, 665.34it/s]\u001b[A\u001b[A\u001b[A"
     ]
    }
   ],
   "source": [
    "dx,dy,dz=(1e-3*50,1e-3*50,1e-3*40) # in km\n",
    "nz = 100\n",
    "z_min = 0\n",
    "z_max = 1e-3*40*nz\n",
    "zgrid = np.linspace(z_min, z_max-dz ,nz)\n",
    "# the above parameters should be known in advence.\n",
    "\n",
    "\"\"\"\n",
    "Eshkol said:\n",
    "The matrices named fncd are 4D: 128x128x100x33, where horizontal resolution is 50 m and vertical is 40 m. \n",
    "The 33 are the size distribution bins according to the same rd.mat vector that I gave you in all previous files.\n",
    "Number concentration = sum( fncd ) on the forth dimension \n",
    "effective radius - re(i,j,k) = sum( rd^3*fncd(i,j,k) )/ sum( rd^2*fncd(i,j,k) )\n",
    "\n",
    "So from the nc files (each contains x,y,z,time,rn,rd,p,rho,FNCD) I need to extract:\n",
    "'FNCD': <class 'netCDF4._netCDF4.Variable'>\n",
    "'rd': <class 'netCDF4._netCDF4.Variable'>\n",
    "\n",
    "Each nc file has:\n",
    "variable units shape\n",
    "x m (128,)\n",
    "y m (128,)\n",
    "z m (100,)\n",
    "time d (1,)\n",
    "rn micron (33,)\n",
    "rd micron (33,)\n",
    "p mb (100,)\n",
    "rho g/m3 (100,)\n",
    "FNCD #/cm3/bin  (1, 33, 100, 128, 128)\n",
    "\n",
    "To work with nc files you need netcdf4 packeg. \n",
    "So in the terminal do:\n",
    "conda install -c anaconda netcdf4\n",
    "then use: from netCDF4 import Dataset\n",
    "\"\"\"\n",
    "\n",
    "import re\n",
    "from tqdm import tqdm\n",
    "from netCDF4 import Dataset\n",
    "\n",
    "data_dir = '../WIZ_Clouds/April2020/'\n",
    "format_ = 'BOMEX_128x128x100_2000CCN_50m_micro_128_*.com3D_int_2.nc'# lod one was .com3D_int_2.nc\n",
    "volumes_paths = sorted(glob.glob(data_dir + '/'+format_))\n",
    "volume_stamps = [re.findall('_(\\d*).com3D_int_2.nc', i)[0] for i in volumes_paths]\n",
    "volume_stamps = [int(i) for i in volume_stamps]# convert to integer \n",
    "\n",
    "SHOWVOL = True # if true, show evrey volume\n",
    "IF_SAVE_txt = True\n",
    "c=0\n",
    "# for file in [volumes_paths[0]]:\n",
    "for file in volumes_paths:\n",
    "    nc = Dataset(file)\n",
    "    rd = nc.variables['rd'][:].data # units micron\n",
    "    FNCD = np.squeeze(nc.variables['FNCD'][:].data) # units #/cm3/bin\n",
    "    # note that the shape of FNCD is now (33, 100, 128, 128)\n",
    "    \n",
    "    # LWC:\n",
    "    # what Eshkol explained with old data: rho - density kg/m^3  - you can use this to convert mixing ratio (LWC [g/kg]]) to liquid water density [g/m^-3]]\n",
    "    \n",
    "    #current data:\n",
    "    # rho - density g/m3:\n",
    "    rho = nc.variables['rho'][:].data\n",
    "    \n",
    "    # loaded evrything I need, now calculate reff, veff, LWC 3d mat:\n",
    "    min_diff = np.diff(np.squeeze(rd)).min()\n",
    "    interp_bins = int(np.ceil((rd.max() - rd.min())/min_diff))\n",
    "    r = np.linspace(rd.min(), rd.max(), interp_bins)\n",
    "    \n",
    "    S = np.sum(FNCD, axis=0)\n",
    "    indxs = np.argwhere(S > 0)# cloudy voxel indexes\n",
    "    \n",
    "    # define all:\n",
    "    SHAPE_3D = FNCD.shape[1:]\n",
    "    RE = np.zeros(SHAPE_3D)\n",
    "    VE = np.zeros(SHAPE_3D)\n",
    "    LWC = np.zeros(SHAPE_3D)\n",
    "    T = np.zeros(SHAPE_3D)\n",
    "    # loop over all cloudy voxels\n",
    "#     for vox_indx in tqdm(indxs):\n",
    "    for vox_indx in indxs:\n",
    "        DOPC = FNCD[:,vox_indx[0],vox_indx[1],vox_indx[2]] # distribution of droplets consintration \n",
    "        DOPC_interpulated = interp1d(np.squeeze(rd),DOPC)(r)\n",
    "        #---------------------------------------------\n",
    "        # calculate reff, veff, LWC from the FNCD (here it doesn't assume gamma distribution):\n",
    "        reff = np.trapz(DOPC_interpulated*r**3,r, axis=0)/np.trapz(DOPC_interpulated*r**2,r, axis=0)\n",
    "        RE[vox_indx[0],vox_indx[1],vox_indx[2]] = reff\n",
    "        VE[vox_indx[0],vox_indx[1],vox_indx[2]] = np.trapz(((r-reff)**2)*(r**2)*DOPC_interpulated,r, axis=0)/(reff**2*np.trapz(DOPC_interpulated*r**2,r, axis=0))\n",
    "\n",
    "        LWC[vox_indx[0],vox_indx[1],vox_indx[2]] = (10e-3)*(4/3)*np.pi*rho[vox_indx[0]]*np.trapz((r**3)*DOPC_interpulated,r, axis=0)\n",
    "        # units of rho are g/m^3, of DOPC are #/cm3/um, of r um. The units of the result LWC are [g/m^3]\n",
    "#         c = c + 1\n",
    "        T[vox_indx[0],vox_indx[1],vox_indx[2]] = S[vox_indx[0],vox_indx[1],vox_indx[2]]\n",
    "#         if(c>10000):\n",
    "#             break;\n",
    "\n",
    "    \n",
    "    # here the 3d shape is (100, 128, 128)\n",
    "    RE = np.transpose(RE, (2, 1, 0))\n",
    "    VE = np.transpose(RE, (2, 1, 0))\n",
    "    LWC = np.transpose(RE, (2, 1, 0))\n",
    "    # here the 3d shape is (128, 128,100)\n",
    "    \n",
    "    if(IF_SAVE_txt):\n",
    "        comment_line = \"Data from Eshkol Itan\"\n",
    "        original_name = os.path.basename(file)\n",
    "        file_name = original_name.split('.')[0]+'.txt'\n",
    "        print('saving {}'.format(file_name))\n",
    "\n",
    "        np.savetxt(file_name, X=np.array([RE.shape]), fmt='%d', header=comment_line)\n",
    "        f = open(file_name, 'ab') \n",
    "        \n",
    "        \n",
    "        np.savetxt(f, X=np.concatenate((np.array([dx, dy]), zgrid)).reshape(1,-1), fmt='%2.3f')\n",
    "        nx, ny, nz = RE.shape\n",
    "        lwc = LWC\n",
    "        reff = RE\n",
    "        veff = VE\n",
    "        y, x, z = np.meshgrid(range(ny), range(nx), range(nz))\n",
    "        data = np.vstack((x.ravel(), y.ravel(), z.ravel(), lwc.ravel(), reff.ravel(), veff.ravel())).T\n",
    "        np.savetxt(f, X=data, fmt='%d %d %d %.5f %.3f')        \n",
    "        f.close()  \n",
    "        \n",
    "    if(SHOWVOL):\n",
    "        res3d = (0.05,0.05,0.04) # horizontal resolution is 50 m and vertical is 40 m\n",
    "        viz3D(RE, res3d = res3d,title='re [um]')\n",
    "            \n",
    "            \n",
    "# in pyshdom liquid water content lwc is of units (g/m^3)."
   ]
  },
  {
   "cell_type": "markdown",
   "metadata": {},
   "source": [
    "# Work on one voxel to test the units and some operations\n"
   ]
  },
  {
   "cell_type": "code",
   "execution_count": 150,
   "metadata": {},
   "outputs": [
    {
     "name": "stdout",
     "output_type": "stream",
     "text": [
      "(10.0, 80.0, 12.7, array([2.475, 3.175, 2.54 ]))\n"
     ]
    }
   ],
   "source": []
  },
  {
   "cell_type": "code",
   "execution_count": 125,
   "metadata": {},
   "outputs": [
    {
     "name": "stdout",
     "output_type": "stream",
     "text": [
      "calculated LWC = 0.004066051815075503 [g/m^3]\n",
      "calculated reff = 203.43140810753337 [um]\n",
      "calculated veff = 0.0888268247736258\n",
      "gamma reff = 203.43140810753334\n",
      "shdom reff = 203.4268204562324\n"
     ]
    },
    {
     "data": {
      "text/plain": [
       "<matplotlib.legend.Legend at 0x7fcb5b85ea90>"
      ]
     },
     "execution_count": 125,
     "metadata": {},
     "output_type": "execute_result"
    },
    {
     "data": {
      "image/png": "[encoded data removed]",
      "text/plain": [
       "<Figure size 576x576 with 1 Axes>"
      ]
     },
     "metadata": {
      "needs_background": "light"
     },
     "output_type": "display_data"
    }
   ],
   "source": [
    "nc = Dataset(volumes_paths[0])\n",
    "rd = nc.variables['rd'][:].data # units micron\n",
    "FNCD = np.squeeze(nc.variables['FNCD'][:].data) # units #/cm3/bin\n",
    "# note that the shape of FNCD is now (33, 100, 128, 128)\n",
    "\n",
    "# LWC:\n",
    "# what Eshkol explained with old data: rho - density kg/m^3  - you can use this to convert mixing ratio (LWC [g/kg]]) to liquid water density [g/m^-3]]\n",
    "\n",
    "#current data:\n",
    "# rho - density g/m3:\n",
    "rho = nc.variables['rho'][:].data\n",
    "\n",
    "# from plt.plot(rd) - you can see that the bins are not linear\n",
    "min_diff = np.diff(np.squeeze(rd)).min()\n",
    "interp_bins = int(np.ceil((rd.max() - rd.min())/min_diff))\n",
    "r = np.linspace(rd.min(), rd.max(), interp_bins)\n",
    "\n",
    "# here, take for example one voxel:\n",
    "S = np.sum(FNCD, axis=0)\n",
    "indxs = np.argwhere(S > 0)# cloudy voxel indexes\n",
    "example_vox_indx = indxs[1166]\n",
    "# maximum radius is here ?\n",
    "# minimum radius is here ?\n",
    "\n",
    "DOPC = FNCD[:,example_vox_indx[0],example_vox_indx[1],example_vox_indx[2]] # distribution of droplets consintration \n",
    "DOPC_interpulated = interp1d(np.squeeze(rd),DOPC)(r)\n",
    "#---------------------------------------------\n",
    "# calculate reff, veff, LWC from the FNCD (here it doesn't assume gamma distribution):\n",
    "reff = np.trapz(DOPC_interpulated*r**3,r, axis=0)/np.trapz(DOPC_interpulated*r**2,r, axis=0)\n",
    "veff = np.trapz(((r-reff)**2)*(r**2)*DOPC_interpulated,r, axis=0)/(reff**2*np.trapz(DOPC_interpulated*r**2,r, axis=0))\n",
    "\n",
    "LWC = (10e-3)*(4/3)*np.pi*rho[example_vox_indx[0]]*np.trapz((r**3)*DOPC_interpulated,r, axis=0)\n",
    "# units of rho are g/m^3, of DOPC are #/cm3/um, of r um. The units of the result LWC are [g/m^3]\n",
    "print(\"calculated LWC = {} [g/m^3]\".format(LWC))\n",
    "print(\"calculated reff = {} [um]\".format(reff))\n",
    "print(\"calculated veff = {}\".format(veff))\n",
    "\n",
    "# try to fit gamma distribution:\n",
    "NC = np.trapz(DOPC,np.squeeze(rd), axis=0)# total consintration\n",
    "test_gamma = gamma_distribution(r,NC,reff,veff)  \n",
    "\n",
    "#---------------------------------------------\n",
    "re_test = np.trapz(test_gamma*r**3,r, axis=0)/np.trapz(test_gamma*r**2,r, axis=0)\n",
    "print(\"gamma reff = {}\".format(re_test))\n",
    "\n",
    "# plot\n",
    "f, ax = plt.subplots(1, 1, figsize=(8, 8))\n",
    "plt.plot(r,DOPC_interpulated,label='Original')\n",
    "plt.xlim([0 ,500])\n",
    "plt.xlabel('radius [um]', fontsize=16)\n",
    "plt.ylabel('distribution dn(r)/dr [#/cm^3/um]', fontsize=16)\n",
    "plt.title('one voxel distribution example', fontsize=16)\n",
    "\n",
    "# gamma distribution test:\n",
    "plt.plot(r,test_gamma,linewidth=2.0,label='Gamma',linestyle = '--')\n",
    "LWC = 0.0\n",
    "for ri,n in zip(r,test_gamma):\n",
    "    LWC = LWC + (1.0E-6*1*n*(4*math.pi/3)*ri**3)\n",
    "    \n",
    "# gamma distribution of pyshdom:\n",
    "mie_mono = shdom.MieMonodisperse(particle_type='Water')\n",
    "mie_mono.set_wavelength_integration(wavelength_band=(wavelengths[0], wavelengths[0]))   \n",
    "mie_mono.set_radius_integration(minimum_effective_radius=rd.min(), max_integration_radius=250)\n",
    "\n",
    "size_distribution = shdom.SizeDistribution(type='gamma')\n",
    "size_distribution.set_parameters(reff=np.linspace(1, 1.5*reff, 100), veff=np.linspace(0.01, 0.5, 50))\n",
    "size_distribution.compute_nd(radii=r, particle_density=mie_mono.pardens)\n",
    "#\n",
    "size_dist = size_distribution.get_nd(reff=reff, veff=veff)\n",
    "\n",
    "#---------------------------------------------\n",
    "re_test = np.trapz(size_dist*r**3,r, axis=0)/np.trapz(size_dist*r**2,r, axis=0)\n",
    "print(\"shdom reff = {}\".format(re_test))\n",
    "\n",
    "# plt.plot(r,LWC*size_dist,label='shdom v_eff= {}'.format(veff),linestyle = '--')\n",
    "\n",
    "ax.xaxis.set_tick_params(labelsize=16)\n",
    "ax.yaxis.set_tick_params(labelsize=16)\n",
    "plt.grid(True)\n",
    "plt.legend(prop={'size': 16})"
   ]
  },
  {
   "cell_type": "code",
   "execution_count": 146,
   "metadata": {},
   "outputs": [
    {
     "name": "stdout",
     "output_type": "stream",
     "text": [
      "(10.0, 80.0, 12.7, array([2.475, 3.175, 2.54 ]))\n"
     ]
    }
   ],
   "source": [
    "\n",
    "    \n",
    "res3d = (0.05,0.05,0.04)\n",
    "viz3D(S, res3d = res3d,title='re [um]')"
   ]
  },
  {
   "cell_type": "markdown",
   "metadata": {},
   "source": [
    "# ?"
   ]
  },
  {
   "cell_type": "code",
   "execution_count": 118,
   "metadata": {
    "scrolled": false
   },
   "outputs": [
    {
     "data": {
      "text/plain": [
       "Text(0.5, 1.0, 'rho(z)')"
      ]
     },
     "execution_count": 118,
     "metadata": {},
     "output_type": "execute_result"
    },
    {
     "data": {
      "image/png": "[encoded data removed]",
      "text/plain": [
       "<Figure size 576x576 with 1 Axes>"
      ]
     },
     "metadata": {
      "needs_background": "light"
     },
     "output_type": "display_data"
    }
   ],
   "source": [
    "\n",
    "f, ax = plt.subplots(1, 1, figsize=(8, 8))\n",
    "plt.plot(np.arange(100),rho,label='rho')\n",
    "plt.xlim([0 ,100])\n",
    "plt.ylim([0 ,1.2])\n",
    "plt.xlabel('layer', fontsize=16)\n",
    "plt.ylabel('rho [g/m^3]', fontsize=16)\n",
    "plt.title('rho(z)', fontsize=16)"
   ]
  },
  {
   "cell_type": "code",
   "execution_count": 134,
   "metadata": {},
   "outputs": [
    {
     "data": {
      "text/plain": [
       "'BOMEX_128x128x100_2000CCN_50m_micro_128_0000007200'"
      ]
     },
     "execution_count": 134,
     "metadata": {},
     "output_type": "execute_result"
    }
   ],
   "source": []
  },
  {
   "cell_type": "code",
   "execution_count": 139,
   "metadata": {},
   "outputs": [
    {
     "data": {
      "text/plain": [
       "(100, 128, 128)"
      ]
     },
     "execution_count": 139,
     "metadata": {},
     "output_type": "execute_result"
    }
   ],
   "source": [
    "SHAPE_3D"
   ]
  },
  {
   "cell_type": "code",
   "execution_count": 135,
   "metadata": {},
   "outputs": [
    {
     "data": {
      "text/plain": [
       "(128, 128, 100)"
      ]
     },
     "execution_count": 135,
     "metadata": {},
     "output_type": "execute_result"
    }
   ],
   "source": [
    "np.transpose(RE, (2, 1, 0)).shape"
   ]
  },
  {
   "cell_type": "code",
   "execution_count": null,
   "metadata": {},
   "outputs": [],
   "source": []
  },
  {
   "cell_type": "code",
   "execution_count": null,
   "metadata": {},
   "outputs": [],
   "source": []
  },
  {
   "cell_type": "code",
   "execution_count": null,
   "metadata": {},
   "outputs": [],
   "source": []
  },
  {
   "cell_type": "code",
   "execution_count": null,
   "metadata": {},
   "outputs": [],
   "source": []
  },
  {
   "cell_type": "code",
   "execution_count": null,
   "metadata": {},
   "outputs": [],
   "source": []
  },
  {
   "cell_type": "code",
   "execution_count": null,
   "metadata": {},
   "outputs": [],
   "source": []
  },
  {
   "cell_type": "code",
   "execution_count": null,
   "metadata": {},
   "outputs": [],
   "source": []
  },
  {
   "cell_type": "code",
   "execution_count": null,
   "metadata": {},
   "outputs": [],
   "source": []
  },
  {
   "cell_type": "code",
   "execution_count": null,
   "metadata": {},
   "outputs": [],
   "source": []
  },
  {
   "cell_type": "code",
   "execution_count": null,
   "metadata": {},
   "outputs": [],
   "source": []
  },
  {
   "cell_type": "code",
   "execution_count": null,
   "metadata": {},
   "outputs": [],
   "source": []
  },
  {
   "cell_type": "code",
   "execution_count": null,
   "metadata": {},
   "outputs": [],
   "source": []
  },
  {
   "cell_type": "code",
   "execution_count": null,
   "metadata": {},
   "outputs": [],
   "source": []
  },
  {
   "cell_type": "code",
   "execution_count": null,
   "metadata": {},
   "outputs": [],
   "source": []
  }
 ],
 "metadata": {
  "kernelspec": {
   "display_name": "pyshdom",
   "language": "python",
   "name": "pyshdom"
  },
  "language_info": {
   "codemirror_mode": {
    "name": "ipython",
    "version": 3
   },
   "file_extension": ".py",
   "mimetype": "text/x-python",
   "name": "python",
   "nbconvert_exporter": "python",
   "pygments_lexer": "ipython3",
   "version": "3.7.4"
  }
 },
 "nbformat": 4,
 "nbformat_minor": 2
}
