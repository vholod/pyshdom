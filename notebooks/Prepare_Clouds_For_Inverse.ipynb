{
 "cells": [
  {
   "cell_type": "code",
   "execution_count": 39,
   "metadata": {},
   "outputs": [],
   "source": [
    "import datetime\n",
    "import numpy as np\n",
    "import matplotlib.pyplot as plt\n",
    "import matplotlib.ticker as mtick\n",
    "import matplotlib.patches as mpatches\n",
    "import glob\n",
    "import json\n",
    "import os\n",
    "import pandas as pd\n",
    "import pickle\n",
    "import scipy\n",
    "import math \n",
    "\n",
    "\n",
    "from scipy.interpolate import interp1d\n",
    "import scipy.io as sio\n",
    "from scipy.optimize import curve_fit\n",
    "\n",
    "rc = {\n",
    "    \"figure.figsize\": (12,6),\n",
    "    \"xtick.major.size\": 12.0,\n",
    "    \"xtick.minor.size\": 8.0,\n",
    "    \"ytick.major.size\": 12.0,\n",
    "    \"ytick.minor.size\": 8.0,\n",
    "    \"axes.linewidth\": 1.75,\n",
    "    \"xtick.color\": '0',\n",
    "    \"ytick.color\": '0',\n",
    "    \"axes.labelcolor\": '0'\n",
    "}\n",
    "\n",
    "\n",
    "%matplotlib inline\n"
   ]
  },
  {
   "cell_type": "markdown",
   "metadata": {},
   "source": [
    "# Define functions"
   ]
  },
  {
   "cell_type": "code",
   "execution_count": 5,
   "metadata": {},
   "outputs": [],
   "source": [
    "def gamma_dist(d,alpha,b,Constant = 1):\n",
    "    r = 0.5*d\n",
    "    n_r = Constant*(r**alpha)*np.exp(-1*b*r)\n",
    "    return n_r\n",
    "    \n",
    "def load_MAT_FILE(mat_path):\n",
    "    if os.path.exists(mat_path):\n",
    "        print(\"loading the 3D mat from: {}\".format(mat_path))\n",
    "    else:\n",
    "        print(\"{} not exists\".format(mat_path))    \n",
    "    \n",
    "    matrix3D = sio.loadmat(mat_path)\n",
    "    return matrix3D\n",
    "\n",
    "def calcHG(mu, g):\n",
    "    \"\"\"Calculate the Henyey-Greenstein function for each voxel.\n",
    "    The HG function is taken from: http://www.astro.umd.edu/~jph/HG_note.pdf\n",
    "    \"\"\"\n",
    "\n",
    "    HG = (1 - g**2) / (1 + g**2 - 2*g*mu)**(3/2) / (4*np.pi)\n",
    "    \n",
    "    return HG"
   ]
  },
  {
   "cell_type": "markdown",
   "metadata": {},
   "source": [
    "# load 3d data for Mie calculations"
   ]
  },
  {
   "cell_type": "code",
   "execution_count": 21,
   "metadata": {},
   "outputs": [
    {
     "name": "stdout",
     "output_type": "stream",
     "text": [
      "loading the 3D mat from: ../WIZ_Clouds/erc_proposal/BOMEX_128x128x100_50CCN_50m_0000008400_pdfVARS.mat\n",
      "content information:\n",
      "CldMtrx shape is: (128, 128, 100)\n",
      "alpha shape is: (128, 128, 100)\n",
      "B shape is: (128, 128, 100)\n",
      "C shape is: (128, 128, 100)\n",
      "fails shape is: (128, 128, 100)\n",
      "rd shape is: (33, 1)\n",
      "BinMPhdata shape is: (128, 128, 100, 33)\n",
      "N shape is: (128, 128, 100)\n",
      "total mediume voxels: 1638400\n",
      "\n",
      "========================================================\n",
      "\n",
      "In 3249 voxels there are no full fitted parameters.\n",
      "There are 23535 voxels with cloud content\n",
      "In 20286.0 voxels there is fitted alpha parameter\n",
      "In 20286.0 voxels there is fitted B parameter\n",
      "In 20286.0 voxels there is fitted C parameter\n"
     ]
    }
   ],
   "source": [
    "# mat_path = \"BOMEX_128x128x100_500CCN_0000106200_pdfVARS.mat\"\n",
    "mat_path = \"../WIZ_Clouds/erc_proposal/BOMEX_128x128x100_50CCN_50m_0000008400_pdfVARS.mat\"\n",
    "matrix3D = load_MAT_FILE(mat_path)\n",
    "\n",
    "#matrix3D.keys() = dict_keys(['B', 'C', '__version__', '__globals__', 'fails', 'DominPDFcoeff', '__header__', 'CldMtrx', \n",
    "#'alpha'])\n",
    "CldMtrx = matrix3D['CldMtrx']# a binary cloud matrix that points out where there are cloud, 1- cloude, 0 - no cloud voxel\n",
    "alpha = matrix3D['alpha']\n",
    "B = matrix3D['B']\n",
    "C = matrix3D['C']# modeled droplet concentration, units are [cm^-3]\n",
    "fails = matrix3D['fails']\n",
    "\n",
    "\"\"\"new parameters 30/7/2018, where:\n",
    "matrix3D.keys() = dict_keys(['__header__', '__version__', '__globals__', 'B', \n",
    "           'BinMPhdata', 'C', 'CldMtrx', 'DominPDFcoeff', 'LWC', 'N', 'RE', 'alpha', 'fails', 'p', 'rd', 'rho'])\"\"\"\n",
    "\n",
    "rd = matrix3D['rd'] #rd - the bins vector (micron)\n",
    "BinMPhdata = matrix3D['BinMPhdata']#a 4D matrix of the droplet size bins (first 3 are spatial dimensions and the 4th is the 33 size bins) [1/um].\n",
    "N = matrix3D['N']#number concentration of droplets per voxel (integral of BinMphdata over the 33 bins)  (cm^-3)\n",
    "alfa =  matrix3D['alpha']\n",
    "B =  matrix3D['B']\n",
    "C =  matrix3D['C']\n",
    "\n",
    "print(\"content information:\")\n",
    "print(\"CldMtrx shape is: {}\".format(CldMtrx.shape))\n",
    "print(\"alpha shape is: {}\".format(alpha.shape))\n",
    "print(\"B shape is: {}\".format(B.shape))\n",
    "print(\"C shape is: {}\".format(C.shape))\n",
    "print(\"fails shape is: {}\".format(fails.shape))\n",
    "print(\"rd shape is: {}\".format(rd.shape))\n",
    "print(\"BinMPhdata shape is: {}\".format(BinMPhdata.shape))\n",
    "print(\"N shape is: {}\".format(N.shape))\n",
    "print(\"total mediume voxels: {}\\n\".format(CldMtrx.size))\n",
    "print(\"========================================================\\n\")\n",
    "M = np.ones(alpha.shape)\n",
    "print(\"In {} voxels there are no full fitted parameters.\".format(fails.flatten().sum()))\n",
    "print(\"There are {} voxels with cloud content\".format(CldMtrx.flatten().sum()))\n",
    "print(\"In {} voxels there is fitted alpha parameter\".format(M.sum() - M[np.isnan(alpha)].flatten().sum()))\n",
    "print(\"In {} voxels there is fitted B parameter\".format(M.sum() - M[np.isnan(B)].flatten().sum()))\n",
    "print(\"In {} voxels there is fitted C parameter\".format(M.sum() - M[np.isnan(C)].flatten().sum()))\n",
    "\n",
    "alpha_not_with_nan = np.nan_to_num(alpha)\n",
    "B_not_with_nan = np.nan_to_num(B)\n",
    "C_not_with_nan = np.nan_to_num(C)"
   ]
  },
  {
   "cell_type": "markdown",
   "metadata": {},
   "source": [
    "# Work on one voxel to test the units and some operations"
   ]
  },
  {
   "cell_type": "code",
   "execution_count": 34,
   "metadata": {},
   "outputs": [
    {
     "name": "stdout",
     "output_type": "stream",
     "text": [
      "Eshkols N = 1.2449157238006592, tested (sanity check) N = 1.2449158376172944\n"
     ]
    },
    {
     "data": {
      "text/plain": [
       "<matplotlib.legend.Legend at 0x7f8bd3bfb810>"
      ]
     },
     "execution_count": 34,
     "metadata": {},
     "output_type": "execute_result"
    },
    {
     "data": {
      "image/png": "[encoded data removed]",
      "text/plain": [
       "<Figure size 576x576 with 1 Axes>"
      ]
     },
     "metadata": {
      "needs_background": "light"
     },
     "output_type": "display_data"
    }
   ],
   "source": [
    "# from plt.plot(rd) - you can see that the bins are not linear\n",
    "diameters = 2*np.squeeze(rd) # (microns)\n",
    "min_diff = np.diff(np.squeeze(rd)).min()\n",
    "interp_bins = int(np.ceil((rd.max() - rd.min())/min_diff))\n",
    "r = np.linspace(rd.min(), rd.max(), interp_bins)\n",
    "\n",
    "indxs = np.argwhere(CldMtrx > 0)# cloudy voxel indexes\n",
    "# here, take for example one voxel with fitted parameters\n",
    "example_vox_indx = indxs[150]\n",
    "DOPC = BinMPhdata[example_vox_indx[0],example_vox_indx[1],example_vox_indx[2],:] # distribution of droplets consintration \n",
    "NC = N[example_vox_indx[0],example_vox_indx[1],example_vox_indx[2]] # number concentration of droplets\n",
    "DOPC_interpulated = interp1d(np.squeeze(rd),DOPC)(r)\n",
    "ALPHA = alfa[example_vox_indx[0],example_vox_indx[1],example_vox_indx[2]]\n",
    "b = B[example_vox_indx[0],example_vox_indx[1],example_vox_indx[2]]\n",
    "c = C[example_vox_indx[0],example_vox_indx[1],example_vox_indx[2]]\n",
    "\n",
    "a = c/(math.gamma(ALPHA+1)/(b**(ALPHA+1)))\n",
    "test_gamma = gamma_dist(2*r,ALPHA,np.real(b),a)\n",
    "F = fails[example_vox_indx[0],example_vox_indx[1],example_vox_indx[2]]\n",
    "\"\"\"\n",
    "parameters for the gamma pdf: the domain average in a vector (alpha,B,C), a matrix of the 3D distribution of each \n",
    "gamma parameter separately, a binary cloud matrix that points out where there are cloud (CldMtrx) and a binary matrix \n",
    "that has 1 values where I couldn't fit a gamma distribution (fails).\n",
    "Where alpha=alpha, B=b and C=a*GAMMA(alpha+1)/b^(alpha+1) which is the droplets number concentration.\n",
    "\"\"\"\n",
    "f, ax = plt.subplots(1, 1, figsize=(8, 8))\n",
    "plt.plot(r,DOPC_interpulated,label='Original')\n",
    "plt.xlim([0 ,150])\n",
    "plt.xlabel('radius [um]', fontsize=16)\n",
    "plt.ylabel('distribution dn(r)/dr [1/um]', fontsize=16)\n",
    "plt.title('one voxel distribution example')\n",
    "\n",
    "# gamma distribution test:\n",
    "plt.plot(r,test_gamma,linewidth=2.0,label='Gamma',linestyle = '--')\n",
    "\n",
    "# sanity check on the consintration\n",
    "# NC_test = np.trapz(DOPC_interpulated,r, axis=0)\n",
    "NC_test = np.trapz(DOPC,np.squeeze(rd), axis=0)\n",
    "print(\"Eshkols N = {}, tested (sanity check) N = {}\".format(NC,NC_test))\n",
    "\n",
    "ax.xaxis.set_tick_params(labelsize=16)\n",
    "ax.yaxis.set_tick_params(labelsize=16)\n",
    "plt.grid(True)\n",
    "plt.legend()"
   ]
  },
  {
   "cell_type": "markdown",
   "metadata": {},
   "source": [
    "# Use pyshdom:"
   ]
  },
  {
   "cell_type": "code",
   "execution_count": 1,
   "metadata": {},
   "outputs": [],
   "source": [
    "\"\"\"\n",
    "Create a monodisperse Mie scattering table for a set wavelength as a function of radius.\n",
    "This table can be integrated for Polydisperse Mie scattering as a function of the size-distribution parameters.\n",
    "\n",
    "Note: \n",
    "Running this cell for max_integration_radius=65 takes ~15secs\n",
    "\"\"\"\n",
    "import shdom\n",
    "mie_mono = shdom.MieMonodisperse(particle_type='Water')\n",
    "mie_mono.set_wavelength_integration(wavelength_band=(0.672, 0.672))   \n",
    "mie_mono.set_radius_integration(minimum_effective_radius=0.05, max_integration_radius=65)\n",
    "mie_mono.compute_table()"
   ]
  },
  {
   "cell_type": "code",
   "execution_count": 16,
   "metadata": {},
   "outputs": [
    {
     "data": {
      "text/plain": [
       "2.5222268104553223"
      ]
     },
     "execution_count": 16,
     "metadata": {},
     "output_type": "execute_result"
    }
   ],
   "source": [
    "ALPHA"
   ]
  },
  {
   "cell_type": "code",
   "execution_count": 26,
   "metadata": {},
   "outputs": [
    {
     "data": {
      "text/plain": [
       "(0.0925959050655365+0j)"
      ]
     },
     "execution_count": 26,
     "metadata": {},
     "output_type": "execute_result"
    }
   ],
   "source": [
    "b"
   ]
  },
  {
   "cell_type": "code",
   "execution_count": 28,
   "metadata": {},
   "outputs": [
    {
     "data": {
      "text/plain": [
       "0"
      ]
     },
     "execution_count": 28,
     "metadata": {},
     "output_type": "execute_result"
    }
   ],
   "source": [
    "example_vox_indx = indxs[150]\n",
    "F = fails[example_vox_indx[0],example_vox_indx[1],example_vox_indx[2]]\n",
    "F"
   ]
  },
  {
   "cell_type": "code",
   "execution_count": null,
   "metadata": {},
   "outputs": [],
   "source": []
  }
 ],
 "metadata": {
  "kernelspec": {
   "display_name": "pyshdom",
   "language": "python",
   "name": "pyshdom"
  },
  "language_info": {
   "codemirror_mode": {
    "name": "ipython",
    "version": 3
   },
   "file_extension": ".py",
   "mimetype": "text/x-python",
   "name": "python",
   "nbconvert_exporter": "python",
   "pygments_lexer": "ipython3",
   "version": "3.7.4"
  }
 },
 "nbformat": 4,
 "nbformat_minor": 2
}
